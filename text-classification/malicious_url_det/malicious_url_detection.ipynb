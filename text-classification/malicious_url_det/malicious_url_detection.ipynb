{
 "cells": [
  {
   "cell_type": "code",
   "execution_count": 1,
   "metadata": {},
   "outputs": [
    {
     "name": "stdout",
     "output_type": "stream",
     "text": [
      "Version:  2.1.0\n",
      "Eager mode:  True\n",
      "Hub version:  0.7.0\n",
      "GPU is available\n"
     ]
    }
   ],
   "source": [
    "from __future__ import absolute_import, division, print_function, unicode_literals\n",
    "\n",
    "import os\n",
    "\n",
    "import tensorflow as tf\n",
    "import tensorflow_hub as hub\n",
    "import tensorflow_datasets as tfds\n",
    "# import tensorflow_addons as tfa\n",
    "\n",
    "from tensorflow import keras\n",
    "from tensorflow.keras import models, regularizers, layers, optimizers, losses, metrics\n",
    "from tensorflow.keras.models import Sequential\n",
    "from tensorflow.keras.layers import Dense\n",
    "\n",
    "import numpy as np\n",
    "import pandas as pd\n",
    "import matplotlib.pyplot as plt\n",
    "\n",
    "from sklearn.utils import shuffle\n",
    "\n",
    "print(\"Version: \", tf.__version__)\n",
    "print(\"Eager mode: \", tf.executing_eagerly())\n",
    "print(\"Hub version: \", hub.__version__)\n",
    "print(\"GPU is\", \"available\" if tf.config.experimental.list_physical_devices(\"GPU\") else \"NOT AVAILABLE\")"
   ]
  },
  {
   "cell_type": "code",
   "execution_count": 2,
   "metadata": {},
   "outputs": [],
   "source": [
    "file_dir = os.path.abspath('')\n",
    "data1_path = os.path.join(file_dir, 'data1.csv')\n",
    "\n",
    "with open(data1_path) as f:\n",
    "    data = [i.strip().rsplit(',', maxsplit=1) for i in f.readlines()]\n",
    "\n",
    "# ensure data is correctly loaded.\n",
    "for item in data:\n",
    "    if len(item) != 2:\n",
    "        print(item)\n",
    "    if item[-1] not in ['bad', 'good']:\n",
    "        print(item)"
   ]
  },
  {
   "cell_type": "code",
   "execution_count": 3,
   "metadata": {},
   "outputs": [
    {
     "data": {
      "text/html": [
       "<div>\n",
       "<style scoped>\n",
       "    .dataframe tbody tr th:only-of-type {\n",
       "        vertical-align: middle;\n",
       "    }\n",
       "\n",
       "    .dataframe tbody tr th {\n",
       "        vertical-align: top;\n",
       "    }\n",
       "\n",
       "    .dataframe thead th {\n",
       "        text-align: right;\n",
       "    }\n",
       "</style>\n",
       "<table border=\"1\" class=\"dataframe\">\n",
       "  <thead>\n",
       "    <tr style=\"text-align: right;\">\n",
       "      <th></th>\n",
       "      <th>url</th>\n",
       "      <th>readable_label</th>\n",
       "    </tr>\n",
       "  </thead>\n",
       "  <tbody>\n",
       "    <tr>\n",
       "      <th>0</th>\n",
       "      <td>diaryofagameaddict.com</td>\n",
       "      <td>bad</td>\n",
       "    </tr>\n",
       "    <tr>\n",
       "      <th>1</th>\n",
       "      <td>espdesign.com.au</td>\n",
       "      <td>bad</td>\n",
       "    </tr>\n",
       "    <tr>\n",
       "      <th>2</th>\n",
       "      <td>iamagameaddict.com</td>\n",
       "      <td>bad</td>\n",
       "    </tr>\n",
       "    <tr>\n",
       "      <th>3</th>\n",
       "      <td>kalantzis.net</td>\n",
       "      <td>bad</td>\n",
       "    </tr>\n",
       "    <tr>\n",
       "      <th>4</th>\n",
       "      <td>slightlyoffcenter.net</td>\n",
       "      <td>bad</td>\n",
       "    </tr>\n",
       "  </tbody>\n",
       "</table>\n",
       "</div>"
      ],
      "text/plain": [
       "                      url readable_label\n",
       "0  diaryofagameaddict.com            bad\n",
       "1        espdesign.com.au            bad\n",
       "2      iamagameaddict.com            bad\n",
       "3           kalantzis.net            bad\n",
       "4   slightlyoffcenter.net            bad"
      ]
     },
     "execution_count": 3,
     "metadata": {},
     "output_type": "execute_result"
    }
   ],
   "source": [
    "df = pd.DataFrame(data)\n",
    "df.columns = ['url', 'readable_label']\n",
    "df = df.dropna()\n",
    "df.head()"
   ]
  },
  {
   "cell_type": "code",
   "execution_count": 4,
   "metadata": {},
   "outputs": [],
   "source": [
    "df['label'] = (df['readable_label'] == 'bad')"
   ]
  },
  {
   "cell_type": "code",
   "execution_count": 5,
   "metadata": {},
   "outputs": [],
   "source": [
    "df = shuffle(df)"
   ]
  },
  {
   "cell_type": "code",
   "execution_count": 6,
   "metadata": {},
   "outputs": [
    {
     "data": {
      "text/html": [
       "<div>\n",
       "<style scoped>\n",
       "    .dataframe tbody tr th:only-of-type {\n",
       "        vertical-align: middle;\n",
       "    }\n",
       "\n",
       "    .dataframe tbody tr th {\n",
       "        vertical-align: top;\n",
       "    }\n",
       "\n",
       "    .dataframe thead th {\n",
       "        text-align: right;\n",
       "    }\n",
       "</style>\n",
       "<table border=\"1\" class=\"dataframe\">\n",
       "  <thead>\n",
       "    <tr style=\"text-align: right;\">\n",
       "      <th></th>\n",
       "      <th>url</th>\n",
       "      <th>readable_label</th>\n",
       "      <th>label</th>\n",
       "    </tr>\n",
       "  </thead>\n",
       "  <tbody>\n",
       "    <tr>\n",
       "      <th>97181</th>\n",
       "      <td>genforum.genealogy.com/reilly/</td>\n",
       "      <td>good</td>\n",
       "      <td>False</td>\n",
       "    </tr>\n",
       "    <tr>\n",
       "      <th>41612</th>\n",
       "      <td>stantonchase.com.tr/NEW/Google/index.php.htm</td>\n",
       "      <td>bad</td>\n",
       "      <td>True</td>\n",
       "    </tr>\n",
       "    <tr>\n",
       "      <th>171376</th>\n",
       "      <td>absoluteastronomy.com/topics/Crispus_Attucks</td>\n",
       "      <td>good</td>\n",
       "      <td>False</td>\n",
       "    </tr>\n",
       "    <tr>\n",
       "      <th>80365</th>\n",
       "      <td>en.wikipedia.org/wiki/Joel_Zifkin</td>\n",
       "      <td>good</td>\n",
       "      <td>False</td>\n",
       "    </tr>\n",
       "    <tr>\n",
       "      <th>130575</th>\n",
       "      <td>people.famouswhy.com/kimberly_patton/</td>\n",
       "      <td>good</td>\n",
       "      <td>False</td>\n",
       "    </tr>\n",
       "    <tr>\n",
       "      <th>311830</th>\n",
       "      <td>nytimes.com/1997/08/06/us/clarence-m-kelley-di...</td>\n",
       "      <td>good</td>\n",
       "      <td>False</td>\n",
       "    </tr>\n",
       "    <tr>\n",
       "      <th>206653</th>\n",
       "      <td>chacha.com/question/what-is-a-mayor-council-go...</td>\n",
       "      <td>good</td>\n",
       "      <td>False</td>\n",
       "    </tr>\n",
       "    <tr>\n",
       "      <th>103517</th>\n",
       "      <td>ico-nuclear-industry.com/</td>\n",
       "      <td>good</td>\n",
       "      <td>False</td>\n",
       "    </tr>\n",
       "    <tr>\n",
       "      <th>94505</th>\n",
       "      <td>freepages.genealogy.rootsweb.ancestry.com/~cha...</td>\n",
       "      <td>good</td>\n",
       "      <td>False</td>\n",
       "    </tr>\n",
       "    <tr>\n",
       "      <th>273549</th>\n",
       "      <td>kutt.com/events</td>\n",
       "      <td>good</td>\n",
       "      <td>False</td>\n",
       "    </tr>\n",
       "    <tr>\n",
       "      <th>334250</th>\n",
       "      <td>shemaroo.com/DownloadCatalogue/MakeExcel.asp?r...</td>\n",
       "      <td>good</td>\n",
       "      <td>False</td>\n",
       "    </tr>\n",
       "    <tr>\n",
       "      <th>41904</th>\n",
       "      <td>centralcidada.org.br/pamat/graph/index.htm</td>\n",
       "      <td>bad</td>\n",
       "      <td>True</td>\n",
       "    </tr>\n",
       "    <tr>\n",
       "      <th>192314</th>\n",
       "      <td>baseball-reference.com/bullpen/Dick_Kenworthy</td>\n",
       "      <td>good</td>\n",
       "      <td>False</td>\n",
       "    </tr>\n",
       "    <tr>\n",
       "      <th>64636</th>\n",
       "      <td>companydatabase.org/c/maple-sugar-syrup/sugar-...</td>\n",
       "      <td>good</td>\n",
       "      <td>False</td>\n",
       "    </tr>\n",
       "    <tr>\n",
       "      <th>151327</th>\n",
       "      <td>theslapshot.com/toronto-maple-leafs-season-may...</td>\n",
       "      <td>good</td>\n",
       "      <td>False</td>\n",
       "    </tr>\n",
       "    <tr>\n",
       "      <th>43481</th>\n",
       "      <td>a-leaguearchive.tripod.com/1995/1995.htm</td>\n",
       "      <td>good</td>\n",
       "      <td>False</td>\n",
       "    </tr>\n",
       "    <tr>\n",
       "      <th>319164</th>\n",
       "      <td>plunderguide.com/angelique-boyer/</td>\n",
       "      <td>good</td>\n",
       "      <td>False</td>\n",
       "    </tr>\n",
       "    <tr>\n",
       "      <th>168007</th>\n",
       "      <td>123people.com/s/albert+gallatin+area</td>\n",
       "      <td>good</td>\n",
       "      <td>False</td>\n",
       "    </tr>\n",
       "    <tr>\n",
       "      <th>165473</th>\n",
       "      <td>wn.com/Toronto_FC</td>\n",
       "      <td>good</td>\n",
       "      <td>False</td>\n",
       "    </tr>\n",
       "    <tr>\n",
       "      <th>52051</th>\n",
       "      <td>basketballrecruiting.rivals.com/content.asp?CI...</td>\n",
       "      <td>good</td>\n",
       "      <td>False</td>\n",
       "    </tr>\n",
       "  </tbody>\n",
       "</table>\n",
       "</div>"
      ],
      "text/plain": [
       "                                                      url readable_label  \\\n",
       "97181                      genforum.genealogy.com/reilly/           good   \n",
       "41612        stantonchase.com.tr/NEW/Google/index.php.htm            bad   \n",
       "171376       absoluteastronomy.com/topics/Crispus_Attucks           good   \n",
       "80365                   en.wikipedia.org/wiki/Joel_Zifkin           good   \n",
       "130575              people.famouswhy.com/kimberly_patton/           good   \n",
       "311830  nytimes.com/1997/08/06/us/clarence-m-kelley-di...           good   \n",
       "206653  chacha.com/question/what-is-a-mayor-council-go...           good   \n",
       "103517                          ico-nuclear-industry.com/           good   \n",
       "94505   freepages.genealogy.rootsweb.ancestry.com/~cha...           good   \n",
       "273549                                    kutt.com/events           good   \n",
       "334250  shemaroo.com/DownloadCatalogue/MakeExcel.asp?r...           good   \n",
       "41904          centralcidada.org.br/pamat/graph/index.htm            bad   \n",
       "192314      baseball-reference.com/bullpen/Dick_Kenworthy           good   \n",
       "64636   companydatabase.org/c/maple-sugar-syrup/sugar-...           good   \n",
       "151327  theslapshot.com/toronto-maple-leafs-season-may...           good   \n",
       "43481            a-leaguearchive.tripod.com/1995/1995.htm           good   \n",
       "319164                  plunderguide.com/angelique-boyer/           good   \n",
       "168007               123people.com/s/albert+gallatin+area           good   \n",
       "165473                                  wn.com/Toronto_FC           good   \n",
       "52051   basketballrecruiting.rivals.com/content.asp?CI...           good   \n",
       "\n",
       "        label  \n",
       "97181   False  \n",
       "41612    True  \n",
       "171376  False  \n",
       "80365   False  \n",
       "130575  False  \n",
       "311830  False  \n",
       "206653  False  \n",
       "103517  False  \n",
       "94505   False  \n",
       "273549  False  \n",
       "334250  False  \n",
       "41904    True  \n",
       "192314  False  \n",
       "64636   False  \n",
       "151327  False  \n",
       "43481   False  \n",
       "319164  False  \n",
       "168007  False  \n",
       "165473  False  \n",
       "52051   False  "
      ]
     },
     "execution_count": 6,
     "metadata": {},
     "output_type": "execute_result"
    }
   ],
   "source": [
    "df.head(20)"
   ]
  },
  {
   "cell_type": "code",
   "execution_count": 7,
   "metadata": {},
   "outputs": [
    {
     "data": {
      "text/plain": [
       "False    344821\n",
       "True      75643\n",
       "Name: label, dtype: int64"
      ]
     },
     "execution_count": 7,
     "metadata": {},
     "output_type": "execute_result"
    }
   ],
   "source": [
    "df['label'].value_counts()"
   ]
  },
  {
   "cell_type": "code",
   "execution_count": 8,
   "metadata": {},
   "outputs": [
    {
     "name": "stdout",
     "output_type": "stream",
     "text": [
      "train count: 206026, valid count: 88298, test count: 126140\n"
     ]
    }
   ],
   "source": [
    "p = np.random.permutation(len(df))\n",
    "train_up_to = int(len(df) * 0.7)\n",
    "train_idx = p[:train_up_to]\n",
    "test_idx = p[train_up_to:]\n",
    "\n",
    "# split train_idx further into training and validation set\n",
    "train_up_to = int(train_up_to * 0.7)\n",
    "train_idx, valid_idx = train_idx[:train_up_to], train_idx[train_up_to:]\n",
    "print('train count: %s, valid count: %s, test count: %s' % (\n",
    "    len(train_idx), len(valid_idx), len(test_idx)))"
   ]
  },
  {
   "cell_type": "code",
   "execution_count": 9,
   "metadata": {},
   "outputs": [
    {
     "data": {
      "text/plain": [
       "False    72501\n",
       "True     15797\n",
       "Name: label, dtype: int64"
      ]
     },
     "execution_count": 9,
     "metadata": {},
     "output_type": "execute_result"
    }
   ],
   "source": [
    "df[len(train_idx): len(train_idx)+len(valid_idx)]['label'].value_counts()"
   ]
  },
  {
   "cell_type": "code",
   "execution_count": 10,
   "metadata": {},
   "outputs": [],
   "source": [
    "int2label = {\n",
    "    False: 'good',\n",
    "    True: 'bad',\n",
    "}"
   ]
  },
  {
   "cell_type": "code",
   "execution_count": 11,
   "metadata": {},
   "outputs": [],
   "source": [
    "from tensorflow.keras.utils import to_categorical\n",
    "\n",
    "\n",
    "def get_data_generator(df, indices, for_training, batch_size=16):\n",
    "    urls, labels = [], []\n",
    "    while True:\n",
    "        for i in indices:\n",
    "            r = df.iloc[i]\n",
    "            url, label = r['url'], r['label']\n",
    "            urls.append(url)\n",
    "            labels.append(label)\n",
    "            if len(urls) >= batch_size:\n",
    "#                 print(np.array(urls), np.array(labels))\n",
    "                yield np.array(urls), np.array(labels)\n",
    "                urls, labels = [], []\n",
    "        if not for_training:\n",
    "            break"
   ]
  },
  {
   "cell_type": "code",
   "execution_count": 12,
   "metadata": {},
   "outputs": [],
   "source": [
    "os.environ[\"TFHUB_CACHE_DIR\"] = os.path.join(os.path.expanduser('~'), '.tfhub-cache')"
   ]
  },
  {
   "cell_type": "code",
   "execution_count": 13,
   "metadata": {},
   "outputs": [],
   "source": [
    "embedding = \"https://tfhub.dev/google/tf2-preview/gnews-swivel-20dim/1\"\n",
    "hub_layer = hub.KerasLayer(embedding, input_shape=[], \n",
    "                           dtype=tf.string, trainable=True)\n",
    "# hub_layer(train_examples_batch[:3])"
   ]
  },
  {
   "cell_type": "code",
   "execution_count": 14,
   "metadata": {},
   "outputs": [],
   "source": [
    "embed = hub.load(\"https://tfhub.dev/google/tf2-preview/gnews-swivel-20dim/1\")"
   ]
  },
  {
   "cell_type": "code",
   "execution_count": 15,
   "metadata": {},
   "outputs": [
    {
     "data": {
      "text/plain": [
       "<tf.Tensor: shape=(2, 20), dtype=float32, numpy=\n",
       "array([[ 0.8666395 ,  0.35917717,  0.00579667,  0.681002  , -0.54226625,\n",
       "         0.22343187, -0.38796625,  0.62195706,  0.22117122, -0.48538068,\n",
       "        -1.2674141 ,  0.886369  , -0.3284907 , -0.13924702, -0.53327686,\n",
       "         0.5739708 , -0.05905761,  0.13629246, -1.1718255 , -0.31494334],\n",
       "       [ 0.960218  ,  0.62520486,  0.06261905,  0.37425604,  0.24782333,\n",
       "        -0.39351934, -0.7418429 ,  0.56599647, -0.26197797, -0.69016844,\n",
       "        -0.76565284,  0.71412426, -0.4537978 , -0.50701594, -0.8499377 ,\n",
       "         0.8917156 , -0.30278975,  0.2149126 , -1.1098894 , -0.46719775]],\n",
       "      dtype=float32)>"
      ]
     },
     "execution_count": 15,
     "metadata": {},
     "output_type": "execute_result"
    }
   ],
   "source": [
    "embed([\"cat is on the mat\", \"dog is in the fog\"])"
   ]
  },
  {
   "cell_type": "code",
   "execution_count": 16,
   "metadata": {},
   "outputs": [
    {
     "name": "stdout",
     "output_type": "stream",
     "text": [
      "Model: \"sequential\"\n",
      "_________________________________________________________________\n",
      "Layer (type)                 Output Shape              Param #   \n",
      "=================================================================\n",
      "keras_layer (KerasLayer)     (None, 20)                400020    \n",
      "_________________________________________________________________\n",
      "dense (Dense)                (None, 16)                336       \n",
      "_________________________________________________________________\n",
      "dense_1 (Dense)              (None, 1)                 17        \n",
      "=================================================================\n",
      "Total params: 400,373\n",
      "Trainable params: 400,373\n",
      "Non-trainable params: 0\n",
      "_________________________________________________________________\n"
     ]
    }
   ],
   "source": [
    "model = tf.keras.Sequential()\n",
    "model.add(hub_layer)\n",
    "model.add(tf.keras.layers.Dense(16, activation='relu'))\n",
    "model.add(tf.keras.layers.Dense(1, activation='sigmoid'))\n",
    "\n",
    "model.summary()"
   ]
  },
  {
   "cell_type": "code",
   "execution_count": 17,
   "metadata": {},
   "outputs": [],
   "source": [
    "from tensorflow.keras import backend as K\n",
    "\n",
    "\n",
    "def recall_m(y_true, y_pred):\n",
    "    true_positives = K.sum(K.round(K.clip(y_true * y_pred, 0, 1)))\n",
    "    possible_positives = K.sum(K.round(K.clip(y_true, 0, 1)))\n",
    "    recall = true_positives / (possible_positives + K.epsilon())\n",
    "    return recall\n",
    "\n",
    "def precision_m(y_true, y_pred):\n",
    "    true_positives = K.sum(K.round(K.clip(y_true * y_pred, 0, 1)))\n",
    "    predicted_positives = K.sum(K.round(K.clip(y_pred, 0, 1)))\n",
    "    precision = true_positives / (predicted_positives + K.epsilon())\n",
    "    return precision\n",
    "\n",
    "def f1_m(y_true, y_pred):\n",
    "    precision = precision_m(y_true, y_pred)\n",
    "    recall = recall_m(y_true, y_pred)\n",
    "    return 2*((precision*recall)/(precision+recall+K.epsilon()))"
   ]
  },
  {
   "cell_type": "code",
   "execution_count": 18,
   "metadata": {
    "scrolled": false
   },
   "outputs": [],
   "source": [
    "METRICS = [\n",
    "      keras.metrics.TruePositives(name='tp'),\n",
    "      keras.metrics.FalsePositives(name='fp'),\n",
    "      keras.metrics.TrueNegatives(name='tn'),\n",
    "      keras.metrics.FalseNegatives(name='fn'), \n",
    "      keras.metrics.BinaryAccuracy(name='accuracy'),\n",
    "      keras.metrics.Precision(name='precision'),\n",
    "      tf.keras.metrics.Recall(name='recall'),\n",
    "      keras.metrics.AUC(name='auc'),\n",
    "      f1_m,\n",
    "]"
   ]
  },
  {
   "cell_type": "code",
   "execution_count": 19,
   "metadata": {},
   "outputs": [],
   "source": [
    "model.compile(optimizer='adam',\n",
    "              loss=tf.keras.losses.BinaryCrossentropy(from_logits=False),\n",
    "              metrics=METRICS)"
   ]
  },
  {
   "cell_type": "code",
   "execution_count": 20,
   "metadata": {
    "scrolled": false
   },
   "outputs": [
    {
     "name": "stdout",
     "output_type": "stream",
     "text": [
      "WARNING:tensorflow:sample_weight modes were coerced from\n",
      "  ...\n",
      "    to  \n",
      "  ['...']\n"
     ]
    },
    {
     "name": "stderr",
     "output_type": "stream",
     "text": [
      "WARNING:tensorflow:sample_weight modes were coerced from\n",
      "  ...\n",
      "    to  \n",
      "  ['...']\n"
     ]
    },
    {
     "name": "stdout",
     "output_type": "stream",
     "text": [
      "WARNING:tensorflow:sample_weight modes were coerced from\n",
      "  ...\n",
      "    to  \n",
      "  ['...']\n"
     ]
    },
    {
     "name": "stderr",
     "output_type": "stream",
     "text": [
      "WARNING:tensorflow:sample_weight modes were coerced from\n",
      "  ...\n",
      "    to  \n",
      "  ['...']\n"
     ]
    },
    {
     "name": "stdout",
     "output_type": "stream",
     "text": [
      "Train for 3219 steps, validate for 1379 steps\n",
      "Epoch 1/10\n",
      "3219/3219 [==============================] - 42s 13ms/step - loss: 0.2911 - tp: 16555.0000 - fp: 5037.0000 - tn: 163860.0000 - fn: 20564.0000 - accuracy: 0.8757 - precision: 0.7667 - recall: 0.4460 - auc: 0.8857 - f1_m: 0.5431 - val_loss: 0.2386 - val_tp: 8453.0000 - val_fp: 1283.0000 - val_tn: 71051.0000 - val_fn: 7469.0000 - val_accuracy: 0.9008 - val_precision: 0.8682 - val_recall: 0.5309 - val_auc: 0.9271 - val_f1_m: 0.6461\n",
      "Epoch 2/10\n",
      "3219/3219 [==============================] - 41s 13ms/step - loss: 0.2296 - tp: 20684.0000 - fp: 3323.0000 - tn: 165577.0000 - fn: 16432.0000 - accuracy: 0.9041 - precision: 0.8616 - recall: 0.5573 - auc: 0.9308 - f1_m: 0.6628 - val_loss: 0.2305 - val_tp: 8783.0000 - val_fp: 1331.0000 - val_tn: 71005.0000 - val_fn: 7137.0000 - val_accuracy: 0.9041 - val_precision: 0.8684 - val_recall: 0.5517 - val_auc: 0.9319 - val_f1_m: 0.6645\n",
      "Epoch 3/10\n",
      "3219/3219 [==============================] - 41s 13ms/step - loss: 0.2214 - tp: 21150.0000 - fp: 3228.0000 - tn: 165670.0000 - fn: 15968.0000 - accuracy: 0.9068 - precision: 0.8676 - recall: 0.5698 - auc: 0.9355 - f1_m: 0.6755 - val_loss: 0.2287 - val_tp: 8926.0000 - val_fp: 1377.0000 - val_tn: 70957.0000 - val_fn: 6996.0000 - val_accuracy: 0.9051 - val_precision: 0.8663 - val_recall: 0.5606 - val_auc: 0.9328 - val_f1_m: 0.6688\n",
      "Epoch 4/10\n",
      "3219/3219 [==============================] - 41s 13ms/step - loss: 0.2170 - tp: 21373.0000 - fp: 3161.0000 - tn: 165738.0000 - fn: 15744.0000 - accuracy: 0.9082 - precision: 0.8712 - recall: 0.5758 - auc: 0.9379 - f1_m: 0.6812 - val_loss: 0.2287 - val_tp: 8957.0000 - val_fp: 1361.0000 - val_tn: 70973.0000 - val_fn: 6965.0000 - val_accuracy: 0.9057 - val_precision: 0.8681 - val_recall: 0.5626 - val_auc: 0.9328 - val_f1_m: 0.6710\n",
      "Epoch 5/10\n",
      "3219/3219 [==============================] - 41s 13ms/step - loss: 0.2140 - tp: 21553.0000 - fp: 3100.0000 - tn: 165797.0000 - fn: 15566.0000 - accuracy: 0.9094 - precision: 0.8743 - recall: 0.5806 - auc: 0.9395 - f1_m: 0.6861 - val_loss: 0.2290 - val_tp: 8995.0000 - val_fp: 1372.0000 - val_tn: 70963.0000 - val_fn: 6926.0000 - val_accuracy: 0.9060 - val_precision: 0.8677 - val_recall: 0.5650 - val_auc: 0.9329 - val_f1_m: 0.6747\n",
      "Epoch 6/10\n",
      "3219/3219 [==============================] - 41s 13ms/step - loss: 0.2116 - tp: 21686.0000 - fp: 3037.0000 - tn: 165862.0000 - fn: 15431.0000 - accuracy: 0.9104 - precision: 0.8772 - recall: 0.5843 - auc: 0.9407 - f1_m: 0.6893 - val_loss: 0.2294 - val_tp: 9026.0000 - val_fp: 1375.0000 - val_tn: 70962.0000 - val_fn: 6893.0000 - val_accuracy: 0.9063 - val_precision: 0.8678 - val_recall: 0.5670 - val_auc: 0.9326 - val_f1_m: 0.6739\n",
      "Epoch 7/10\n",
      "3219/3219 [==============================] - 41s 13ms/step - loss: 0.2095 - tp: 21777.0000 - fp: 2987.0000 - tn: 165912.0000 - fn: 15340.0000 - accuracy: 0.9110 - precision: 0.8794 - recall: 0.5867 - auc: 0.9419 - f1_m: 0.6911 - val_loss: 0.2299 - val_tp: 8996.0000 - val_fp: 1300.0000 - val_tn: 71035.0000 - val_fn: 6925.0000 - val_accuracy: 0.9068 - val_precision: 0.8737 - val_recall: 0.5650 - val_auc: 0.9326 - val_f1_m: 0.6746\n",
      "Epoch 8/10\n",
      "3219/3219 [==============================] - 41s 13ms/step - loss: 0.2076 - tp: 21870.0000 - fp: 2919.0000 - tn: 165980.0000 - fn: 15247.0000 - accuracy: 0.9118 - precision: 0.8822 - recall: 0.5892 - auc: 0.9429 - f1_m: 0.6935 - val_loss: 0.2305 - val_tp: 8981.0000 - val_fp: 1292.0000 - val_tn: 71044.0000 - val_fn: 6939.0000 - val_accuracy: 0.9067 - val_precision: 0.8742 - val_recall: 0.5641 - val_auc: 0.9325 - val_f1_m: 0.6764\n",
      "Epoch 9/10\n",
      "3219/3219 [==============================] - 41s 13ms/step - loss: 0.2056 - tp: 21966.0000 - fp: 2856.0000 - tn: 166041.0000 - fn: 15153.0000 - accuracy: 0.9126 - precision: 0.8849 - recall: 0.5918 - auc: 0.9438 - f1_m: 0.6970 - val_loss: 0.2307 - val_tp: 9009.0000 - val_fp: 1296.0000 - val_tn: 71036.0000 - val_fn: 6915.0000 - val_accuracy: 0.9070 - val_precision: 0.8742 - val_recall: 0.5657 - val_auc: 0.9326 - val_f1_m: 0.6752\n",
      "Epoch 10/10\n",
      "3219/3219 [==============================] - 41s 13ms/step - loss: 0.2037 - tp: 22071.0000 - fp: 2779.0000 - tn: 166120.0000 - fn: 15046.0000 - accuracy: 0.9135 - precision: 0.8882 - recall: 0.5946 - auc: 0.9447 - f1_m: 0.7001 - val_loss: 0.2311 - val_tp: 9033.0000 - val_fp: 1325.0000 - val_tn: 71006.0000 - val_fn: 6892.0000 - val_accuracy: 0.9069 - val_precision: 0.8721 - val_recall: 0.5672 - val_auc: 0.9325 - val_f1_m: 0.6761\n"
     ]
    }
   ],
   "source": [
    "from tensorflow.keras.callbacks import ModelCheckpoint\n",
    "\n",
    "batch_size = 64\n",
    "valid_batch_size = 64\n",
    "train_gen = get_data_generator(df, train_idx, for_training=True, batch_size=batch_size)\n",
    "valid_gen = get_data_generator(df, valid_idx, for_training=True, batch_size=valid_batch_size)\n",
    "\n",
    "history = model.fit(train_gen,\n",
    "                    steps_per_epoch=len(train_idx)//batch_size,\n",
    "                    epochs=10,\n",
    "                    validation_data=valid_gen,\n",
    "                    validation_steps=len(valid_idx)//valid_batch_size)"
   ]
  },
  {
   "cell_type": "code",
   "execution_count": 21,
   "metadata": {},
   "outputs": [
    {
     "data": {
      "image/png": "[encoded data removed]",
      "text/plain": [
       "<Figure size 1440x1080 with 6 Axes>"
      ]
     },
     "metadata": {
      "needs_background": "light"
     },
     "output_type": "display_data"
    }
   ],
   "source": [
    "def  plot_train_history(history):\n",
    "    fig, axes = plt.subplots(3, 2, figsize=(20, 15))\n",
    "\n",
    "    axes[0][0].plot(history.history['accuracy'], label='Train accuracy')\n",
    "    axes[0][0].plot(history.history['val_accuracy'], label='Val accuracy')\n",
    "    axes[0][0].set_xlabel('Epochs')\n",
    "    axes[0][0].legend() \n",
    "\n",
    "    axes[0][1].plot(history.history['loss'], label='Training loss')\n",
    "    axes[0][1].plot(history.history['val_loss'], label='Validation loss')\n",
    "    axes[0][1].set_xlabel('Epochs')\n",
    "    axes[0][1].legend()\n",
    "    \n",
    "    axes[1][0].plot(history.history['recall'], label='Train recall')\n",
    "    axes[1][0].plot(history.history['val_recall'], label='Val recall')\n",
    "    axes[1][0].set_xlabel('Epochs')\n",
    "    axes[1][0].legend() \n",
    "\n",
    "    axes[1][1].plot(history.history['precision'], label='Training precision')\n",
    "    axes[1][1].plot(history.history['val_precision'], label='Validation precision')\n",
    "    axes[1][1].set_xlabel('Epochs')\n",
    "    axes[1][1].legend()\n",
    "    \n",
    "    axes[2][0].plot(history.history['auc'], label='Train auc')\n",
    "    axes[2][0].plot(history.history['val_auc'], label='Val auc')\n",
    "    axes[2][0].set_xlabel('Epochs')\n",
    "    axes[2][0].legend() \n",
    "\n",
    "    axes[2][1].plot(history.history['f1_m'], label='Training F1')\n",
    "    axes[2][1].plot(history.history['val_f1_m'], label='Validation F1')\n",
    "    axes[2][1].set_xlabel('Epochs')\n",
    "    axes[2][1].legend()\n",
    "\n",
    "\n",
    "plot_train_history(history)"
   ]
  },
  {
   "cell_type": "code",
   "execution_count": 22,
   "metadata": {},
   "outputs": [],
   "source": [
    "test_gen = get_data_generator(df, test_idx, for_training=False, batch_size=32)\n",
    "x_test, y_true = next(test_gen)\n",
    "\n",
    "y_pred = model.predict_on_batch(x_test)\n",
    "\n",
    "# y_true = tf.math.argmax(y_test, axis=-1)\n",
    "# y_pred = tf.math.argmax(y_pred, axis=-1)"
   ]
  },
  {
   "cell_type": "code",
   "execution_count": 24,
   "metadata": {},
   "outputs": [
    {
     "name": "stdout",
     "output_type": "stream",
     "text": [
      "bad, 1.00, 194.1.238.155/module/6fa68d441c87e67e6814956e0128376f/\n",
      "good, 0.01, docstoc.com/docs/62494790/Tilley-Information\n",
      "good, 0.00, ocoathletics.stadiumhotelnetwork.com/directions.html\n",
      "good, 0.50, gardnerdenverproducts.com/Microsite_Product.aspx?id=4004&n=2156\n",
      "bad, 0.26, toobatextile.com/doc/2016DocDriveInc/2016DocDriveInc/\n",
      "good, 0.29, cka.byinter.net/ckgm.html\n",
      "good, 0.00, yellowbot.com/browse/movie%20theater/Kansas%20City%2C%20MO/page4.html\n",
      "good, 0.00, youtube.com/watch?v=LRrRbQKUue8\n",
      "good, 0.00, war.wikia.com/wiki/World_War_II\n",
      "good, 0.00, wn.com/San_Francisco_Bay_Area\n",
      "good, 0.00, artinfo.com/artists/profile/217714/vladimir-kush/\n",
      "good, 0.12, deeper-voice.com/an-exercise-to-make-your-voice-sound-deeper\n",
      "good, 0.01, cbc.ca/news/canadavotes/ridings/montreal.html\n",
      "good, 0.19, mcbw.org/mnservices\n",
      "good, 0.00, best-cities.findthebest.com/d/d/North-Dakota\n",
      "good, 0.10, facebook.com/sean.w.harrington\n",
      "good, 0.05, home.earthlink.net/~glengreenbythesea/history.shtml\n",
      "good, 0.00, linkedin.com/company/andrews-mcmeel-universal\n",
      "good, 0.00, rude.com/\n",
      "good, 0.26, english.turkcebilgi.com/Claude+Julien+(ice+hockey)\n",
      "good, 0.00, iguide.travel/Miyako_%28Okinawa%29/Hotels_and_Accommodation\n",
      "bad, 0.23, lajaniquerafm.com/filewoorddd/fileword/\n",
      "good, 0.00, osdir.com/ml/hardware.trs80.model100/2008-02/msg00106.html\n",
      "good, 0.00, xfinitytv.comcast.net/tv/Home-Improvement/62651/full-episodes\n",
      "good, 0.14, purrfectbnb.com/\n",
      "bad, 0.26, bgldptjuwwq.org/apache_handler.php\n",
      "good, 0.13, findagrave.com/cgi-bin/fg.cgi?page=gr&GRid=8702173\n",
      "good, 0.23, miltonmethodistchurch.org/id1.html\n",
      "good, 0.00, blog.nj.com/hssportsextra/2009/07/marvin_booker_had_only_been.html\n",
      "good, 0.00, course-notes.org/US_History/Political_Timelines/1900_1909_The_Modern_State\n"
     ]
    }
   ],
   "source": [
    "for i in range(30):\n",
    "    pred = y_pred[i].numpy()[0]\n",
    "    gd = int2label[y_true[i]]\n",
    "    print('%s, %.2f, %s' % (gd, pred, x_test[i]))\n",
    "\n",
    "#     ax.set_title('pred: {}'.format(\n",
    "#         ''.join(map(lambda i: int2label[i], y_pred[img_idx].numpy()))))\n",
    "#     ax.set_xlabel('true: {}'.format(\n",
    "#         ''.join(map(lambda i: b[i], y_true[img_idx].numpy()))))\n",
    "#     ax.set_xticks([])\n",
    "#     ax.set_yticks([])"
   ]
  },
  {
   "cell_type": "code",
   "execution_count": null,
   "metadata": {},
   "outputs": [],
   "source": []
  }
 ],
 "metadata": {
  "kernelspec": {
   "display_name": "Python 3",
   "language": "python",
   "name": "python3"
  },
  "language_info": {
   "codemirror_mode": {
    "name": "ipython",
    "version": 3
   },
   "file_extension": ".py",
   "mimetype": "text/x-python",
   "name": "python",
   "nbconvert_exporter": "python",
   "pygments_lexer": "ipython3",
   "version": "3.7.6"
  }
 },
 "nbformat": 4,
 "nbformat_minor": 4
}
