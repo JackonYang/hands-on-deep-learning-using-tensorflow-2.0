{
 "cells": [
  {
   "cell_type": "markdown",
   "metadata": {},
   "source": [
    "# Summary\n",
    "\n",
    "实验结果：\n",
    "\n",
    "在 CIFAR10 数据集上的实验结果，使用 GPU GTX 1080.\n",
    "\n",
    "| 模型 | epoch | training 正确率 | evaluate 正确率 | 运行时间 |\n",
    "| -- | -- | -- | -- | -- |\n",
    "| VggNet | 10 | 83% | 78% | 500s |\n",
    "| ResNet-v1 | 10 | 85% | 79% | 168s |\n",
    "| ResNet-v1 | 50 | 98% | 81% | 832s |\n",
    "\n",
    "观点：\n",
    "\n",
    "1. ResNet 的性能和能效比，都好于 VggNet。碾压式的进步。\n",
    "2. 当前实现版本，过拟合很严重，是改进的重点。"
   ]
  },
  {
   "cell_type": "code",
   "execution_count": 1,
   "metadata": {},
   "outputs": [
    {
     "data": {
      "text/plain": [
       "'2.1.0'"
      ]
     },
     "execution_count": 1,
     "metadata": {},
     "output_type": "execute_result"
    }
   ],
   "source": [
    "import tensorflow as tf\n",
    "from tensorflow.keras import datasets, layers, models\n",
    "from tensorflow.keras import regularizers\n",
    "import matplotlib.pyplot as plt\n",
    "import time\n",
    "\n",
    "tf.__version__"
   ]
  },
  {
   "cell_type": "code",
   "execution_count": 2,
   "metadata": {},
   "outputs": [
    {
     "data": {
      "text/plain": [
       "[PhysicalDevice(name='/physical_device:GPU:0', device_type='GPU')]"
      ]
     },
     "execution_count": 2,
     "metadata": {},
     "output_type": "execute_result"
    }
   ],
   "source": [
    "tf.config.list_physical_devices('GPU')"
   ]
  },
  {
   "cell_type": "code",
   "execution_count": 3,
   "metadata": {},
   "outputs": [],
   "source": [
    "cifar10 = tf.keras.datasets.cifar10\n",
    "(x_train, y_train),(x_test, y_test) = cifar10.load_data()\n",
    "\n",
    "# Normalize pixel values to be between 0 and 1\n",
    "x_train, x_test = x_train / 255.0, x_test / 255.0"
   ]
  },
  {
   "cell_type": "code",
   "execution_count": 4,
   "metadata": {},
   "outputs": [
    {
     "data": {
      "text/plain": [
       "(50000, 32, 32, 3)"
      ]
     },
     "execution_count": 4,
     "metadata": {},
     "output_type": "execute_result"
    }
   ],
   "source": [
    "x_train.shape"
   ]
  },
  {
   "cell_type": "code",
   "execution_count": 5,
   "metadata": {},
   "outputs": [],
   "source": [
    "def res_net_block(input_data, filters, conv_size):\n",
    "    x = layers.Conv2D(filters, conv_size, activation='relu', padding='same')(input_data)\n",
    "    x = layers.BatchNormalization()(x)\n",
    "    x = layers.Conv2D(filters, conv_size, activation=None, padding='same')(x)\n",
    "    x = layers.BatchNormalization()(x)\n",
    "    x = layers.Add()([x, input_data])\n",
    "    x = layers.Activation('relu')(x)\n",
    "    return x"
   ]
  },
  {
   "cell_type": "code",
   "execution_count": 6,
   "metadata": {},
   "outputs": [],
   "source": [
    "N, W, H, C = x_train.shape\n",
    "N_LABELS = 10\n",
    "\n",
    "inputs = tf.keras.Input(shape=(W, H, C))\n",
    "x = layers.Conv2D(32, 3, activation='relu')(inputs)\n",
    "x = layers.Conv2D(64, 3, activation='relu')(x)\n",
    "x = layers.MaxPooling2D(3)(x)\n",
    "\n",
    "num_res_net_blocks = 10\n",
    "for i in range(num_res_net_blocks):\n",
    "  x = res_net_block(x, 64, 3)\n",
    "\n",
    "x = layers.Conv2D(64, 3, activation='relu')(x)\n",
    "x = layers.GlobalAveragePooling2D()(x)\n",
    "x = layers.Dense(256, activation='relu')(x)\n",
    "x = layers.Dropout(0.5)(x)\n",
    "outputs = layers.Dense(10, activation='softmax')(x)\n",
    "\n",
    "model = tf.keras.Model(inputs, outputs)"
   ]
  },
  {
   "cell_type": "code",
   "execution_count": 7,
   "metadata": {
    "scrolled": false
   },
   "outputs": [
    {
     "name": "stdout",
     "output_type": "stream",
     "text": [
      "!! start time counting\n",
      "Train on 50000 samples, validate on 10000 samples\n",
      "Epoch 1/10\n",
      "50000/50000 [==============================] - 19s 374us/sample - loss: 1.5674 - accuracy: 0.4223 - val_loss: 1.5674 - val_accuracy: 0.4666\n",
      "Epoch 2/10\n",
      "50000/50000 [==============================] - 16s 325us/sample - loss: 1.1001 - accuracy: 0.6105 - val_loss: 1.2281 - val_accuracy: 0.5751\n",
      "Epoch 3/10\n",
      "50000/50000 [==============================] - 16s 328us/sample - loss: 0.9012 - accuracy: 0.6846 - val_loss: 1.1706 - val_accuracy: 0.6232\n",
      "Epoch 4/10\n",
      "50000/50000 [==============================] - 16s 327us/sample - loss: 0.7796 - accuracy: 0.7327 - val_loss: 0.7812 - val_accuracy: 0.7318\n",
      "Epoch 5/10\n",
      "50000/50000 [==============================] - 16s 328us/sample - loss: 0.6879 - accuracy: 0.7663 - val_loss: 0.8449 - val_accuracy: 0.7233\n",
      "Epoch 6/10\n",
      "50000/50000 [==============================] - 17s 332us/sample - loss: 0.6190 - accuracy: 0.7883 - val_loss: 0.9080 - val_accuracy: 0.7120\n",
      "Epoch 7/10\n",
      "50000/50000 [==============================] - 17s 331us/sample - loss: 0.5533 - accuracy: 0.8117 - val_loss: 0.7333 - val_accuracy: 0.7577\n",
      "Epoch 8/10\n",
      "50000/50000 [==============================] - 16s 329us/sample - loss: 0.5066 - accuracy: 0.8280 - val_loss: 0.6382 - val_accuracy: 0.7892\n",
      "Epoch 9/10\n",
      "50000/50000 [==============================] - 16s 327us/sample - loss: 0.4576 - accuracy: 0.8441 - val_loss: 0.6745 - val_accuracy: 0.7788\n",
      "Epoch 10/10\n",
      "50000/50000 [==============================] - 16s 328us/sample - loss: 0.4194 - accuracy: 0.8569 - val_loss: 0.6146 - val_accuracy: 0.7935\n",
      "10000/10000 - 1s - loss: 0.6146 - accuracy: 0.7935\n",
      "!! Total timecost: 168.90s\n"
     ]
    }
   ],
   "source": [
    "model.compile(optimizer='adam',\n",
    "              loss='sparse_categorical_crossentropy',\n",
    "              metrics=['accuracy'])\n",
    "print('!! start time counting')\n",
    "tic = time.time()\n",
    "\n",
    "history = model.fit(x_train, y_train, epochs=10, \n",
    "                    validation_data=(x_test, y_test))\n",
    "model.evaluate(x_test, y_test, verbose=2)\n",
    "toc = time.time()\n",
    "print('!! Total timecost: %.2fs' % (toc - tic))"
   ]
  },
  {
   "cell_type": "code",
   "execution_count": 8,
   "metadata": {},
   "outputs": [
    {
     "name": "stdout",
     "output_type": "stream",
     "text": [
      "10000/10000 - 1s - loss: 0.6146 - accuracy: 0.7935\n",
      "0.7935\n"
     ]
    },
    {
     "data": {
      "image/png": "[encoded data removed]",
      "text/plain": [
       "<Figure size 432x288 with 1 Axes>"
      ]
     },
     "metadata": {
      "needs_background": "light"
     },
     "output_type": "display_data"
    }
   ],
   "source": [
    "# train vs evaluate 的 accuracy 曲线\n",
    "plt.plot(history.history['accuracy'], label='accuracy')\n",
    "plt.plot(history.history['val_accuracy'], label = 'val_accuracy')\n",
    "plt.xlabel('Epoch')\n",
    "plt.ylabel('Accuracy')\n",
    "plt.ylim([0.5, 1])\n",
    "plt.legend(loc='lower right')\n",
    "\n",
    "test_loss, test_acc = model.evaluate(x_test, y_test, verbose=2)\n",
    "print(test_acc)"
   ]
  },
  {
   "cell_type": "markdown",
   "metadata": {},
   "source": [
    "#### 50 epochs"
   ]
  },
  {
   "cell_type": "code",
   "execution_count": 9,
   "metadata": {
    "scrolled": false
   },
   "outputs": [
    {
     "name": "stdout",
     "output_type": "stream",
     "text": [
      "!! start time counting\n",
      "Train on 50000 samples, validate on 10000 samples\n",
      "Epoch 1/50\n",
      "50000/50000 [==============================] - 18s 360us/sample - loss: 0.3818 - accuracy: 0.8690 - val_loss: 0.6767 - val_accuracy: 0.7866\n",
      "Epoch 2/50\n",
      "50000/50000 [==============================] - 16s 327us/sample - loss: 0.3441 - accuracy: 0.8819 - val_loss: 0.7574 - val_accuracy: 0.7688\n",
      "Epoch 3/50\n",
      "50000/50000 [==============================] - 16s 329us/sample - loss: 0.3119 - accuracy: 0.8916 - val_loss: 0.6382 - val_accuracy: 0.8082\n",
      "Epoch 4/50\n",
      "50000/50000 [==============================] - 16s 329us/sample - loss: 0.2857 - accuracy: 0.9026 - val_loss: 0.7626 - val_accuracy: 0.7885\n",
      "Epoch 5/50\n",
      "50000/50000 [==============================] - 16s 328us/sample - loss: 0.2629 - accuracy: 0.9085 - val_loss: 0.6869 - val_accuracy: 0.8024\n",
      "Epoch 6/50\n",
      "50000/50000 [==============================] - 17s 330us/sample - loss: 0.2337 - accuracy: 0.9199 - val_loss: 0.7261 - val_accuracy: 0.7912\n",
      "Epoch 7/50\n",
      "50000/50000 [==============================] - 16s 330us/sample - loss: 0.2143 - accuracy: 0.9252 - val_loss: 0.8190 - val_accuracy: 0.7773\n",
      "Epoch 8/50\n",
      "50000/50000 [==============================] - 16s 328us/sample - loss: 0.1952 - accuracy: 0.9327 - val_loss: 0.8465 - val_accuracy: 0.7860\n",
      "Epoch 9/50\n",
      "50000/50000 [==============================] - 17s 334us/sample - loss: 0.1844 - accuracy: 0.9369 - val_loss: 0.7964 - val_accuracy: 0.7939\n",
      "Epoch 10/50\n",
      "50000/50000 [==============================] - 16s 327us/sample - loss: 0.1658 - accuracy: 0.9423 - val_loss: 0.7903 - val_accuracy: 0.8046\n",
      "Epoch 11/50\n",
      "50000/50000 [==============================] - 16s 330us/sample - loss: 0.1531 - accuracy: 0.9482 - val_loss: 0.7605 - val_accuracy: 0.8182\n",
      "Epoch 12/50\n",
      "50000/50000 [==============================] - 17s 338us/sample - loss: 0.1443 - accuracy: 0.9510 - val_loss: 0.8746 - val_accuracy: 0.7937\n",
      "Epoch 13/50\n",
      "50000/50000 [==============================] - 17s 330us/sample - loss: 0.1332 - accuracy: 0.9536 - val_loss: 0.8693 - val_accuracy: 0.8042\n",
      "Epoch 14/50\n",
      "50000/50000 [==============================] - 17s 336us/sample - loss: 0.1294 - accuracy: 0.9551 - val_loss: 0.8115 - val_accuracy: 0.8049\n",
      "Epoch 15/50\n",
      "50000/50000 [==============================] - 17s 338us/sample - loss: 0.1143 - accuracy: 0.9597 - val_loss: 0.9567 - val_accuracy: 0.7924\n",
      "Epoch 16/50\n",
      "50000/50000 [==============================] - 16s 324us/sample - loss: 0.1131 - accuracy: 0.9611 - val_loss: 0.8661 - val_accuracy: 0.8165\n",
      "Epoch 17/50\n",
      "50000/50000 [==============================] - 16s 330us/sample - loss: 0.1036 - accuracy: 0.9647 - val_loss: 0.8807 - val_accuracy: 0.8149\n",
      "Epoch 18/50\n",
      "50000/50000 [==============================] - 16s 330us/sample - loss: 0.1025 - accuracy: 0.9649 - val_loss: 0.9151 - val_accuracy: 0.8131\n",
      "Epoch 19/50\n",
      "50000/50000 [==============================] - 17s 335us/sample - loss: 0.0957 - accuracy: 0.9677 - val_loss: 0.9932 - val_accuracy: 0.8020\n",
      "Epoch 20/50\n",
      "50000/50000 [==============================] - 17s 336us/sample - loss: 0.0925 - accuracy: 0.9685 - val_loss: 1.0741 - val_accuracy: 0.7974\n",
      "Epoch 21/50\n",
      "50000/50000 [==============================] - 17s 332us/sample - loss: 0.0902 - accuracy: 0.9701 - val_loss: 0.8863 - val_accuracy: 0.8110\n",
      "Epoch 22/50\n",
      "50000/50000 [==============================] - 16s 329us/sample - loss: 0.0891 - accuracy: 0.9695 - val_loss: 0.9351 - val_accuracy: 0.8219\n",
      "Epoch 23/50\n",
      "50000/50000 [==============================] - 16s 327us/sample - loss: 0.0815 - accuracy: 0.9725 - val_loss: 1.0358 - val_accuracy: 0.8067\n",
      "Epoch 24/50\n",
      "50000/50000 [==============================] - 17s 334us/sample - loss: 0.0805 - accuracy: 0.9727 - val_loss: 1.3110 - val_accuracy: 0.7629\n",
      "Epoch 25/50\n",
      "50000/50000 [==============================] - 17s 336us/sample - loss: 0.0760 - accuracy: 0.9742 - val_loss: 1.0694 - val_accuracy: 0.8020\n",
      "Epoch 26/50\n",
      "50000/50000 [==============================] - 17s 340us/sample - loss: 0.0779 - accuracy: 0.9741 - val_loss: 1.0304 - val_accuracy: 0.8081\n",
      "Epoch 27/50\n",
      "50000/50000 [==============================] - 17s 332us/sample - loss: 0.0739 - accuracy: 0.9748 - val_loss: 0.9675 - val_accuracy: 0.8187\n",
      "Epoch 28/50\n",
      "50000/50000 [==============================] - 16s 328us/sample - loss: 0.0720 - accuracy: 0.9748 - val_loss: 1.2506 - val_accuracy: 0.7972\n",
      "Epoch 29/50\n",
      "50000/50000 [==============================] - 17s 332us/sample - loss: 0.0697 - accuracy: 0.9760 - val_loss: 1.0593 - val_accuracy: 0.8108\n",
      "Epoch 30/50\n",
      "50000/50000 [==============================] - 16s 326us/sample - loss: 0.0649 - accuracy: 0.9782 - val_loss: 1.0155 - val_accuracy: 0.8218\n",
      "Epoch 31/50\n",
      "50000/50000 [==============================] - 16s 329us/sample - loss: 0.0656 - accuracy: 0.9781 - val_loss: 1.1474 - val_accuracy: 0.7975\n",
      "Epoch 32/50\n",
      "50000/50000 [==============================] - 17s 332us/sample - loss: 0.0599 - accuracy: 0.9803 - val_loss: 1.0728 - val_accuracy: 0.8169\n",
      "Epoch 33/50\n",
      "50000/50000 [==============================] - 17s 333us/sample - loss: 0.0660 - accuracy: 0.9781 - val_loss: 1.0749 - val_accuracy: 0.8171\n",
      "Epoch 34/50\n",
      "50000/50000 [==============================] - 17s 334us/sample - loss: 0.0648 - accuracy: 0.9784 - val_loss: 1.1080 - val_accuracy: 0.8118\n",
      "Epoch 35/50\n",
      "50000/50000 [==============================] - 17s 331us/sample - loss: 0.0573 - accuracy: 0.9808 - val_loss: 1.0278 - val_accuracy: 0.8206\n",
      "Epoch 36/50\n",
      "50000/50000 [==============================] - 17s 338us/sample - loss: 0.0610 - accuracy: 0.9795 - val_loss: 1.0583 - val_accuracy: 0.8084\n",
      "Epoch 37/50\n",
      "50000/50000 [==============================] - 17s 331us/sample - loss: 0.0559 - accuracy: 0.9814 - val_loss: 1.1632 - val_accuracy: 0.8176\n",
      "Epoch 38/50\n",
      "50000/50000 [==============================] - 16s 327us/sample - loss: 0.0610 - accuracy: 0.9796 - val_loss: 1.0650 - val_accuracy: 0.8098\n",
      "Epoch 39/50\n",
      "50000/50000 [==============================] - 17s 333us/sample - loss: 0.0531 - accuracy: 0.9821 - val_loss: 1.0897 - val_accuracy: 0.8085\n",
      "Epoch 40/50\n",
      "50000/50000 [==============================] - 16s 327us/sample - loss: 0.0554 - accuracy: 0.9819 - val_loss: 1.1341 - val_accuracy: 0.8062\n",
      "Epoch 41/50\n",
      "50000/50000 [==============================] - 17s 333us/sample - loss: 0.0519 - accuracy: 0.9835 - val_loss: 1.1287 - val_accuracy: 0.8132\n",
      "Epoch 42/50\n",
      "50000/50000 [==============================] - 17s 338us/sample - loss: 0.0560 - accuracy: 0.9822 - val_loss: 1.0759 - val_accuracy: 0.8212\n",
      "Epoch 43/50\n",
      "50000/50000 [==============================] - 17s 334us/sample - loss: 0.0485 - accuracy: 0.9841 - val_loss: 1.0631 - val_accuracy: 0.8222\n",
      "Epoch 44/50\n",
      "50000/50000 [==============================] - 16s 328us/sample - loss: 0.0536 - accuracy: 0.9825 - val_loss: 1.1755 - val_accuracy: 0.8219\n",
      "Epoch 45/50\n",
      "50000/50000 [==============================] - 17s 331us/sample - loss: 0.0485 - accuracy: 0.9842 - val_loss: 1.1110 - val_accuracy: 0.8195\n",
      "Epoch 46/50\n",
      "50000/50000 [==============================] - 17s 332us/sample - loss: 0.0487 - accuracy: 0.9844 - val_loss: 1.2127 - val_accuracy: 0.8071\n",
      "Epoch 47/50\n",
      "50000/50000 [==============================] - 17s 331us/sample - loss: 0.0481 - accuracy: 0.9845 - val_loss: 1.2917 - val_accuracy: 0.8059\n",
      "Epoch 48/50\n",
      "50000/50000 [==============================] - 16s 329us/sample - loss: 0.0488 - accuracy: 0.9843 - val_loss: 1.1850 - val_accuracy: 0.8171\n",
      "Epoch 49/50\n",
      "50000/50000 [==============================] - 17s 333us/sample - loss: 0.0487 - accuracy: 0.9840 - val_loss: 1.2622 - val_accuracy: 0.8043\n",
      "Epoch 50/50\n",
      "50000/50000 [==============================] - 17s 331us/sample - loss: 0.0479 - accuracy: 0.9846 - val_loss: 1.1636 - val_accuracy: 0.8187\n",
      "10000/10000 - 1s - loss: 1.1636 - accuracy: 0.8187\n",
      "!! Total timecost: 832.41s\n"
     ]
    }
   ],
   "source": [
    "model.compile(optimizer='adam',\n",
    "              loss='sparse_categorical_crossentropy',\n",
    "              metrics=['accuracy'])\n",
    "print('!! start time counting')\n",
    "tic = time.time()\n",
    "\n",
    "history = model.fit(x_train, y_train, epochs=50, \n",
    "                    validation_data=(x_test, y_test))\n",
    "model.evaluate(x_test, y_test, verbose=2)\n",
    "toc = time.time()\n",
    "print('!! Total timecost: %.2fs' % (toc - tic))"
   ]
  },
  {
   "cell_type": "code",
   "execution_count": 10,
   "metadata": {},
   "outputs": [
    {
     "name": "stdout",
     "output_type": "stream",
     "text": [
      "10000/10000 - 1s - loss: 1.1636 - accuracy: 0.8187\n",
      "0.8187\n"
     ]
    },
    {
     "data": {
      "image/png": "[encoded data removed]",
      "text/plain": [
       "<Figure size 432x288 with 1 Axes>"
      ]
     },
     "metadata": {
      "needs_background": "light"
     },
     "output_type": "display_data"
    }
   ],
   "source": [
    "# train vs evaluate 的 accuracy 曲线\n",
    "plt.plot(history.history['accuracy'], label='accuracy')\n",
    "plt.plot(history.history['val_accuracy'], label = 'val_accuracy')\n",
    "plt.xlabel('Epoch')\n",
    "plt.ylabel('Accuracy')\n",
    "plt.ylim([0.5, 1])\n",
    "plt.legend(loc='lower right')\n",
    "\n",
    "test_loss, test_acc = model.evaluate(x_test, y_test, verbose=2)\n",
    "print(test_acc)"
   ]
  },
  {
   "cell_type": "code",
   "execution_count": null,
   "metadata": {},
   "outputs": [],
   "source": []
  }
 ],
 "metadata": {
  "kernelspec": {
   "display_name": "Python 3",
   "language": "python",
   "name": "python3"
  },
  "language_info": {
   "codemirror_mode": {
    "name": "ipython",
    "version": 3
   },
   "file_extension": ".py",
   "mimetype": "text/x-python",
   "name": "python",
   "nbconvert_exporter": "python",
   "pygments_lexer": "ipython3",
   "version": "3.7.6"
  }
 },
 "nbformat": 4,
 "nbformat_minor": 2
}
