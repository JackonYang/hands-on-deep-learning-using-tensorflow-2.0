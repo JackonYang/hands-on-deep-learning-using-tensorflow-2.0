{
 "cells": [
  {
   "cell_type": "markdown",
   "metadata": {},
   "source": [
    "# Summary\n",
    "\n",
    "3 种模型在 2 个数据集上的运行时间 & 正确率数据汇总如下：\n",
    "\n",
    "| 模型 | MNIST 数据集 | CIFAR10 数据集 | 观点 |\n",
    "| :--: | :--: | :--: | :-- |\n",
    "| 单层 softmax | 6s, 92% | 15s, 35% | MNIST 可用，CIFAR10 不可用 |\n",
    "| 3 层全连接模型 (无 dropout) | 9s, 97% | 30s, 39%~42%| 无本质变化，在 CIFAR10 数据集上依旧不可用 |\n",
    "| 3 层全连接模型（有 dropout ） | 10s, 97% | 33s, 28%~34% | 模型更差。无 dropout 时的正确率有很大的过拟合嫌疑 |\n",
    "| AlexNet | 8s, 97% | 3min, 70%| 在 CIFAR10 上可用了。关键进步！|\n",
    "\n",
    "观点：\n",
    "\n",
    "1. 单层 softmax 和 3 层全连接，在 CIFAR10 上性能飞掉，基本不具备实用价值。有没有 dropout，无本质变化。\n",
    "2. AlexNet 在 CIFAR10 上展示了 CNN 网络的潜力。70% 的正确率，在容错率较高的场景下，具备一定的使用价值。"
   ]
  },
  {
   "cell_type": "code",
   "execution_count": 1,
   "metadata": {},
   "outputs": [
    {
     "data": {
      "text/plain": [
       "'2.1.0'"
      ]
     },
     "execution_count": 1,
     "metadata": {},
     "output_type": "execute_result"
    }
   ],
   "source": [
    "import tensorflow as tf\n",
    "from tensorflow.keras import datasets, layers, models\n",
    "import matplotlib.pyplot as plt\n",
    "import time\n",
    "\n",
    "tf.__version__"
   ]
  },
  {
   "cell_type": "markdown",
   "metadata": {},
   "source": [
    "# 1. 单层 softmax 模型\n",
    "\n",
    "测试在 MNIST & CIFAR10 数据集上到效果。作为后续测试的基准数据。\n",
    "\n",
    "- MNIST 上 92%，可用\n",
    "- CIFAR10 35%，模型飞掉，无实用价值"
   ]
  },
  {
   "cell_type": "markdown",
   "metadata": {},
   "source": [
    "## 1.1 MNIST 数据集 - 1 Layer softmax\n",
    "\n",
    "模型基本可用\n",
    "\n",
    "- timecost: ~6s\n",
    "- accuracy: 92%"
   ]
  },
  {
   "cell_type": "code",
   "execution_count": 2,
   "metadata": {},
   "outputs": [],
   "source": [
    "mnist = tf.keras.datasets.mnist\n",
    "(x_train, y_train),(x_test, y_test) = mnist.load_data()\n",
    "x_train, x_test = x_train / 255.0, x_test / 255.0"
   ]
  },
  {
   "cell_type": "code",
   "execution_count": 3,
   "metadata": {
    "scrolled": true
   },
   "outputs": [
    {
     "data": {
      "text/plain": [
       "(60000, 28, 28)"
      ]
     },
     "execution_count": 3,
     "metadata": {},
     "output_type": "execute_result"
    }
   ],
   "source": [
    "x_train.shape"
   ]
  },
  {
   "cell_type": "code",
   "execution_count": 4,
   "metadata": {},
   "outputs": [
    {
     "name": "stdout",
     "output_type": "stream",
     "text": [
      "!! start time counting\n",
      "Train on 60000 samples\n",
      "Epoch 1/5\n",
      "60000/60000 [==============================] - 1s 20us/sample - loss: 0.4707 - accuracy: 0.8764\n",
      "Epoch 2/5\n",
      "60000/60000 [==============================] - 1s 18us/sample - loss: 0.3039 - accuracy: 0.9157\n",
      "Epoch 3/5\n",
      "60000/60000 [==============================] - 1s 18us/sample - loss: 0.2832 - accuracy: 0.9201\n",
      "Epoch 4/5\n",
      "60000/60000 [==============================] - 1s 18us/sample - loss: 0.2735 - accuracy: 0.9232\n",
      "Epoch 5/5\n",
      "60000/60000 [==============================] - 1s 18us/sample - loss: 0.2666 - accuracy: 0.9262\n",
      "10000/10000 [==============================] - 0s 16us/sample - loss: 0.2711 - accuracy: 0.9258\n",
      "!! Total timecost: 5.95s\n"
     ]
    }
   ],
   "source": [
    "N, W, H = x_train.shape\n",
    "N_LABELS = 10\n",
    "\n",
    "model = tf.keras.models.Sequential([\n",
    "  tf.keras.layers.Flatten(input_shape=(W, H)),\n",
    "  tf.keras.layers.Dense(N_LABELS, activation='softmax')\n",
    "])\n",
    "\n",
    "model.compile(optimizer='adam',\n",
    "              loss='sparse_categorical_crossentropy',\n",
    "              metrics=['accuracy'])\n",
    "\n",
    "print('!! start time counting')\n",
    "tic = time.time()\n",
    "\n",
    "model.fit(x_train, y_train, epochs=5)\n",
    "model.evaluate(x_test, y_test)\n",
    "toc = time.time()\n",
    "print('!! Total timecost: %.2fs' % (toc - tic))"
   ]
  },
  {
   "cell_type": "markdown",
   "metadata": {},
   "source": [
    "## 1.2 CIFAR10 数据集 -- 1 Layer softmax\n",
    "\n",
    "模型飞掉，不能用。\n",
    "\n",
    "相比于 MNIST 数据集，处理时间从 6s 到 15s，准确率从 92% 降到 37%。\n",
    "\n",
    "- timecost: ~15s\n",
    "- accuracy: 35%"
   ]
  },
  {
   "cell_type": "code",
   "execution_count": 5,
   "metadata": {},
   "outputs": [],
   "source": [
    "cifar10 = tf.keras.datasets.cifar10\n",
    "(x_train, y_train),(x_test, y_test) = cifar10.load_data()\n",
    "\n",
    "# Normalize pixel values to be between 0 and 1\n",
    "x_train, x_test = x_train / 255.0, x_test / 255.0"
   ]
  },
  {
   "cell_type": "code",
   "execution_count": 6,
   "metadata": {},
   "outputs": [
    {
     "data": {
      "text/plain": [
       "(50000, 32, 32, 3)"
      ]
     },
     "execution_count": 6,
     "metadata": {},
     "output_type": "execute_result"
    }
   ],
   "source": [
    "x_train.shape"
   ]
  },
  {
   "cell_type": "code",
   "execution_count": 7,
   "metadata": {},
   "outputs": [
    {
     "name": "stdout",
     "output_type": "stream",
     "text": [
      "!! start time counting\n",
      "Train on 50000 samples\n",
      "Epoch 1/10\n",
      "50000/50000 [==============================] - 2s 31us/sample - loss: 1.9627 - accuracy: 0.3195\n",
      "Epoch 2/10\n",
      "50000/50000 [==============================] - 1s 29us/sample - loss: 1.8730 - accuracy: 0.3546\n",
      "Epoch 3/10\n",
      "50000/50000 [==============================] - 1s 29us/sample - loss: 1.8482 - accuracy: 0.3636\n",
      "Epoch 4/10\n",
      "50000/50000 [==============================] - 1s 29us/sample - loss: 1.8418 - accuracy: 0.3698\n",
      "Epoch 5/10\n",
      "50000/50000 [==============================] - 1s 29us/sample - loss: 1.8389 - accuracy: 0.3731\n",
      "Epoch 6/10\n",
      "50000/50000 [==============================] - 1s 29us/sample - loss: 1.8326 - accuracy: 0.3745\n",
      "Epoch 7/10\n",
      "50000/50000 [==============================] - 1s 29us/sample - loss: 1.8148 - accuracy: 0.3805\n",
      "Epoch 8/10\n",
      "50000/50000 [==============================] - 1s 29us/sample - loss: 1.8136 - accuracy: 0.3825\n",
      "Epoch 9/10\n",
      "50000/50000 [==============================] - 1s 29us/sample - loss: 1.8064 - accuracy: 0.3836\n",
      "Epoch 10/10\n",
      "50000/50000 [==============================] - 1s 29us/sample - loss: 1.8094 - accuracy: 0.3849\n",
      "10000/10000 [==============================] - 0s 23us/sample - loss: 1.8614 - accuracy: 0.3675\n",
      "!! Total timecost: 15.67s\n"
     ]
    }
   ],
   "source": [
    "N, W, H, C = x_train.shape\n",
    "N_LABELS = 10\n",
    "\n",
    "model = tf.keras.models.Sequential([\n",
    "  tf.keras.layers.Flatten(input_shape=(W, H, C)),\n",
    "  tf.keras.layers.Dense(N_LABELS, activation='softmax')\n",
    "])\n",
    "\n",
    "model.compile(optimizer='adam',\n",
    "              loss='sparse_categorical_crossentropy',\n",
    "              metrics=['accuracy'])\n",
    "\n",
    "print('!! start time counting')\n",
    "tic = time.time()\n",
    "\n",
    "model.fit(x_train, y_train, epochs=10)\n",
    "model.evaluate(x_test, y_test)\n",
    "toc = time.time()\n",
    "print('!! Total timecost: %.2fs' % (toc - tic))"
   ]
  },
  {
   "cell_type": "markdown",
   "metadata": {},
   "source": [
    "# 2. 3 层全连接模型 (无 dropout)\n",
    "\n",
    "相对于单层 softmax，无本质变化，在 CIFAR10 数据集上依旧不可用。\n",
    "\n",
    "在 MNIST 上有不错到正确率提升。"
   ]
  },
  {
   "cell_type": "markdown",
   "metadata": {},
   "source": [
    "## 2.1 MNIST 数据集 -- 3 层全连接模型 (无 dropout)\n",
    "\n",
    "模型效果提升明显，正确率从 92% 到 97%。\n",
    "\n",
    "运行时间增加 50%，从 6s 到 9s，影响不大。\n",
    "\n",
    "- timecost: ~9s\n",
    "- accuracy: 97%"
   ]
  },
  {
   "cell_type": "code",
   "execution_count": 8,
   "metadata": {},
   "outputs": [
    {
     "name": "stdout",
     "output_type": "stream",
     "text": [
      "!! start time counting\n",
      "Train on 60000 samples\n",
      "Epoch 1/5\n",
      "60000/60000 [==============================] - 2s 31us/sample - loss: 0.2374 - accuracy: 0.9275\n",
      "Epoch 2/5\n",
      "60000/60000 [==============================] - 2s 29us/sample - loss: 0.1079 - accuracy: 0.9675\n",
      "Epoch 3/5\n",
      "60000/60000 [==============================] - 2s 29us/sample - loss: 0.0761 - accuracy: 0.9759\n",
      "Epoch 4/5\n",
      "60000/60000 [==============================] - 2s 29us/sample - loss: 0.0611 - accuracy: 0.9805\n",
      "Epoch 5/5\n",
      "60000/60000 [==============================] - 2s 28us/sample - loss: 0.0494 - accuracy: 0.9838\n",
      "10000/10000 [==============================] - 0s 19us/sample - loss: 0.0983 - accuracy: 0.9720\n",
      "!! Total timecost: 9.06s\n"
     ]
    }
   ],
   "source": [
    "# 模型：3 层全连接，无 dropout\n",
    "# 数据集：MNIST\n",
    "\n",
    "mnist = tf.keras.datasets.mnist\n",
    "(x_train, y_train),(x_test, y_test) = mnist.load_data()\n",
    "x_train, x_test = x_train / 255.0, x_test / 255.0\n",
    "\n",
    "N, W, H = x_train.shape\n",
    "N_LABELS = 10\n",
    "\n",
    "model = tf.keras.models.Sequential([\n",
    "  tf.keras.layers.Flatten(input_shape=(W, H)),\n",
    "  tf.keras.layers.Dense(64, activation='relu'),\n",
    "  tf.keras.layers.Dense(1000, activation='relu'),\n",
    "  tf.keras.layers.Dense(N_LABELS, activation='softmax')\n",
    "])\n",
    "\n",
    "model.compile(optimizer='adam',\n",
    "              loss='sparse_categorical_crossentropy',\n",
    "              metrics=['accuracy'])\n",
    "\n",
    "print('!! start time counting')\n",
    "tic = time.time()\n",
    "\n",
    "model.fit(x_train, y_train, epochs=5)\n",
    "model.evaluate(x_test, y_test)\n",
    "toc = time.time()\n",
    "print('!! Total timecost: %.2fs' % (toc - tic))"
   ]
  },
  {
   "cell_type": "markdown",
   "metadata": {},
   "source": [
    "## 2.2 CIFAR10 数据集 -- 3 层全连接模型 (无 dropout)\n",
    "\n",
    "模型依旧不可用。\n",
    "\n",
    "正确率从 37% 到 39%，变化不大。\n",
    "\n",
    "- timecost: ~30s\n",
    "- accuracy: 39% - 42%"
   ]
  },
  {
   "cell_type": "code",
   "execution_count": 9,
   "metadata": {},
   "outputs": [
    {
     "name": "stdout",
     "output_type": "stream",
     "text": [
      "!! start time counting\n",
      "Train on 50000 samples\n",
      "Epoch 1/10\n",
      "50000/50000 [==============================] - 3s 59us/sample - loss: 1.8638 - accuracy: 0.3200\n",
      "Epoch 2/10\n",
      "50000/50000 [==============================] - 3s 59us/sample - loss: 1.7264 - accuracy: 0.3773\n",
      "Epoch 3/10\n",
      "50000/50000 [==============================] - 3s 57us/sample - loss: 1.6771 - accuracy: 0.3961\n",
      "Epoch 4/10\n",
      "50000/50000 [==============================] - 3s 57us/sample - loss: 1.6407 - accuracy: 0.4104\n",
      "Epoch 5/10\n",
      "50000/50000 [==============================] - 3s 57us/sample - loss: 1.6166 - accuracy: 0.4176\n",
      "Epoch 6/10\n",
      "50000/50000 [==============================] - 3s 57us/sample - loss: 1.5996 - accuracy: 0.4236\n",
      "Epoch 7/10\n",
      "50000/50000 [==============================] - 3s 57us/sample - loss: 1.5819 - accuracy: 0.4299\n",
      "Epoch 8/10\n",
      "50000/50000 [==============================] - 3s 57us/sample - loss: 1.5733 - accuracy: 0.4356\n",
      "Epoch 9/10\n",
      "50000/50000 [==============================] - 3s 57us/sample - loss: 1.5575 - accuracy: 0.4389\n",
      "Epoch 10/10\n",
      "50000/50000 [==============================] - 3s 57us/sample - loss: 1.5507 - accuracy: 0.4412\n",
      "10000/10000 [==============================] - 0s 27us/sample - loss: 1.5903 - accuracy: 0.4279\n",
      "!! Total timecost: 29.78s\n"
     ]
    }
   ],
   "source": [
    "# 模型：3 层全连接，无 dropout\n",
    "# 数据集：CIFAR10\n",
    "\n",
    "cifar10 = tf.keras.datasets.cifar10\n",
    "(x_train, y_train),(x_test, y_test) = cifar10.load_data()\n",
    "\n",
    "# Normalize pixel values to be between 0 and 1\n",
    "x_train, x_test = x_train / 255.0, x_test / 255.0\n",
    "\n",
    "N, W, H, C = x_train.shape\n",
    "N_LABELS = 10\n",
    "\n",
    "model = tf.keras.models.Sequential([\n",
    "  tf.keras.layers.Flatten(input_shape=(W, H, C)),\n",
    "  tf.keras.layers.Dense(64, activation='relu'),\n",
    "  tf.keras.layers.Dense(1000, activation='relu'),\n",
    "  tf.keras.layers.Dense(N_LABELS, activation='softmax')\n",
    "])\n",
    "\n",
    "model.compile(optimizer='adam',\n",
    "              loss='sparse_categorical_crossentropy',\n",
    "              metrics=['accuracy'])\n",
    "\n",
    "print('!! start time counting')\n",
    "tic = time.time()\n",
    "\n",
    "model.fit(x_train, y_train, epochs=10)\n",
    "model.evaluate(x_test, y_test)\n",
    "toc = time.time()\n",
    "print('!! Total timecost: %.2fs' % (toc - tic))"
   ]
  },
  {
   "cell_type": "markdown",
   "metadata": {},
   "source": [
    "# 3. 3 层全连接模型 (有 dropout )\n",
    "\n",
    "相对于没有 dropout，无本质变化，在 CIFAR10 数据集上依旧不可用。"
   ]
  },
  {
   "cell_type": "markdown",
   "metadata": {},
   "source": [
    "## 3.1 MNIST 数据集 -- 3 层全连接模型 (有 dropout )\n",
    "\n",
    "各项指标基本不变。如果 epoch=20，正确可以达到 98%，很微小的提升。\n",
    "\n",
    "- timecost: ~10s\n",
    "- accuracy: 97%"
   ]
  },
  {
   "cell_type": "code",
   "execution_count": 10,
   "metadata": {},
   "outputs": [
    {
     "name": "stdout",
     "output_type": "stream",
     "text": [
      "!! start time counting\n",
      "Train on 60000 samples\n",
      "Epoch 1/5\n",
      "60000/60000 [==============================] - 2s 35us/sample - loss: 0.3098 - accuracy: 0.9050\n",
      "Epoch 2/5\n",
      "60000/60000 [==============================] - 2s 33us/sample - loss: 0.1715 - accuracy: 0.9469\n",
      "Epoch 3/5\n",
      "60000/60000 [==============================] - 2s 33us/sample - loss: 0.1411 - accuracy: 0.9561\n",
      "Epoch 4/5\n",
      "60000/60000 [==============================] - 2s 33us/sample - loss: 0.1244 - accuracy: 0.9608\n",
      "Epoch 5/5\n",
      "60000/60000 [==============================] - 2s 33us/sample - loss: 0.1141 - accuracy: 0.9642\n",
      "10000/10000 [==============================] - 0s 19us/sample - loss: 0.0871 - accuracy: 0.9734\n",
      "!! Total timecost: 10.37s\n"
     ]
    }
   ],
   "source": [
    "# 模型：3 层全连接，有 dropout\n",
    "# 数据集：MNIST\n",
    "\n",
    "mnist = tf.keras.datasets.mnist\n",
    "(x_train, y_train),(x_test, y_test) = mnist.load_data()\n",
    "x_train, x_test = x_train / 255.0, x_test / 255.0\n",
    "\n",
    "N, W, H = x_train.shape\n",
    "N_LABELS = 10\n",
    "\n",
    "model = tf.keras.models.Sequential([\n",
    "  tf.keras.layers.Flatten(input_shape=(W, H)),\n",
    "#     tf.keras.layers.Flatten(input_shape=(W, H)),\n",
    "  tf.keras.layers.Dense(64, activation='relu'),\n",
    "  tf.keras.layers.Dropout(0.2),\n",
    "  tf.keras.layers.Dense(1000, activation='relu'),\n",
    "  tf.keras.layers.Dropout(0.2),\n",
    "  tf.keras.layers.Dense(N_LABELS, activation='softmax')\n",
    "])\n",
    "\n",
    "model.compile(optimizer='adam',\n",
    "              loss='sparse_categorical_crossentropy',\n",
    "              metrics=['accuracy'])\n",
    "\n",
    "print('!! start time counting')\n",
    "tic = time.time()\n",
    "\n",
    "model.fit(x_train, y_train, epochs=5)\n",
    "model.evaluate(x_test, y_test)\n",
    "toc = time.time()\n",
    "print('!! Total timecost: %.2fs' % (toc - tic))"
   ]
  },
  {
   "cell_type": "markdown",
   "metadata": {},
   "source": [
    "## 3.2 CIFAR10 数据集 -- 3 层全连接模型 (有 dropout )\n",
    "\n",
    "模型依旧不可用，更差。说明，没有 dropout 时的正确率有很大的过拟合嫌疑。\n",
    "\n",
    "正确率在 28% - 34% 之间波动。\n",
    "\n",
    "- timecost: ~33s\n",
    "- accuracy: 28% - 34%"
   ]
  },
  {
   "cell_type": "code",
   "execution_count": 11,
   "metadata": {},
   "outputs": [
    {
     "name": "stdout",
     "output_type": "stream",
     "text": [
      "!! start time counting\n",
      "Train on 50000 samples\n",
      "Epoch 1/10\n",
      "50000/50000 [==============================] - 3s 66us/sample - loss: 2.0519 - accuracy: 0.2213\n",
      "Epoch 2/10\n",
      "50000/50000 [==============================] - 3s 62us/sample - loss: 1.9945 - accuracy: 0.2453\n",
      "Epoch 3/10\n",
      "50000/50000 [==============================] - 3s 62us/sample - loss: 1.9769 - accuracy: 0.2560\n",
      "Epoch 4/10\n",
      "50000/50000 [==============================] - 3s 62us/sample - loss: 1.9612 - accuracy: 0.2644\n",
      "Epoch 5/10\n",
      "50000/50000 [==============================] - 3s 62us/sample - loss: 1.9525 - accuracy: 0.2649\n",
      "Epoch 6/10\n",
      "50000/50000 [==============================] - 3s 62us/sample - loss: 1.9475 - accuracy: 0.2732\n",
      "Epoch 7/10\n",
      "50000/50000 [==============================] - 3s 62us/sample - loss: 1.9435 - accuracy: 0.2697\n",
      "Epoch 8/10\n",
      "50000/50000 [==============================] - 3s 62us/sample - loss: 1.9405 - accuracy: 0.2756\n",
      "Epoch 9/10\n",
      "50000/50000 [==============================] - 3s 62us/sample - loss: 1.9371 - accuracy: 0.2754\n",
      "Epoch 10/10\n",
      "50000/50000 [==============================] - 3s 62us/sample - loss: 1.9328 - accuracy: 0.2771\n",
      "10000/10000 [==============================] - 0s 28us/sample - loss: 1.8787 - accuracy: 0.3093\n",
      "!! Total timecost: 32.43s\n"
     ]
    }
   ],
   "source": [
    "# 模型：3 层全连接，有 dropout\n",
    "# 数据集：CIFAR10\n",
    "\n",
    "cifar10 = tf.keras.datasets.cifar10\n",
    "(x_train, y_train),(x_test, y_test) = cifar10.load_data()\n",
    "\n",
    "# Normalize pixel values to be between 0 and 1\n",
    "x_train, x_test = x_train / 255.0, x_test / 255.0\n",
    "\n",
    "N, W, H, C = x_train.shape\n",
    "N_LABELS = 10\n",
    "\n",
    "model = tf.keras.models.Sequential([\n",
    "  tf.keras.layers.Flatten(input_shape=(W, H, C)),\n",
    "  tf.keras.layers.Dense(64, activation='relu'),\n",
    "  tf.keras.layers.Dropout(0.2),\n",
    "  tf.keras.layers.Dense(1000, activation='relu'),\n",
    "  tf.keras.layers.Dropout(0.2),\n",
    "  tf.keras.layers.Dense(N_LABELS, activation='softmax')\n",
    "])\n",
    "\n",
    "model.compile(optimizer='adam',\n",
    "              loss='sparse_categorical_crossentropy',\n",
    "              metrics=['accuracy'])\n",
    "\n",
    "print('!! start time counting')\n",
    "tic = time.time()\n",
    "\n",
    "model.fit(x_train, y_train, epochs=10)\n",
    "model.evaluate(x_test, y_test)\n",
    "toc = time.time()\n",
    "print('!! Total timecost: %.2fs' % (toc - tic))"
   ]
  },
  {
   "cell_type": "markdown",
   "metadata": {},
   "source": [
    "# 4. AlexNet -- 简单又经典的入门级 CNN 模型\n",
    "\n",
    "在 CIFAR10 上展示了 CNN 网络的潜力。70% 的正确率，在容错率较高的场景下，具备一定的使用价值。\n",
    "\n",
    "在 MNIST 上，无明显变化。"
   ]
  },
  {
   "cell_type": "markdown",
   "metadata": {},
   "source": [
    "## 4.1 MNIST 数据集合 -- AlexNet\n",
    "\n",
    "正确率和时间，与 3 层 softmax 模型差不多。\n",
    "\n",
    "- timecost: ~8s\n",
    "- accuracy: 97%"
   ]
  },
  {
   "cell_type": "code",
   "execution_count": 12,
   "metadata": {},
   "outputs": [
    {
     "name": "stdout",
     "output_type": "stream",
     "text": [
      "!! start time counting\n",
      "Train on 60000 samples, validate on 10000 samples\n",
      "Epoch 1/5\n",
      "60000/60000 [==============================] - 2s 28us/sample - loss: 0.3890 - accuracy: 0.8852 - val_loss: 0.1612 - val_accuracy: 0.9515\n",
      "Epoch 2/5\n",
      "60000/60000 [==============================] - 2s 26us/sample - loss: 0.2192 - accuracy: 0.9351 - val_loss: 0.1247 - val_accuracy: 0.9628\n",
      "Epoch 3/5\n",
      "60000/60000 [==============================] - 2s 26us/sample - loss: 0.1803 - accuracy: 0.9463 - val_loss: 0.1027 - val_accuracy: 0.9691\n",
      "Epoch 4/5\n",
      "60000/60000 [==============================] - 2s 26us/sample - loss: 0.1612 - accuracy: 0.9517 - val_loss: 0.0947 - val_accuracy: 0.9714\n",
      "Epoch 5/5\n",
      "60000/60000 [==============================] - 2s 26us/sample - loss: 0.1475 - accuracy: 0.9550 - val_loss: 0.0917 - val_accuracy: 0.9727\n",
      "10000/10000 - 0s - loss: 0.0917 - accuracy: 0.9727\n",
      "!! Total timecost: 8.20s\n"
     ]
    }
   ],
   "source": [
    "mnist = tf.keras.datasets.mnist\n",
    "(x_train, y_train),(x_test, y_test) = mnist.load_data()\n",
    "x_train, x_test = x_train / 255.0, x_test / 255.0\n",
    "\n",
    "N, W, H = x_train.shape\n",
    "N_LABELS = 10\n",
    "\n",
    "model = tf.keras.models.Sequential([\n",
    "  tf.keras.layers.Flatten(input_shape=(W, H)),\n",
    "  tf.keras.layers.Dense(128, activation='relu'),\n",
    "  tf.keras.layers.Dropout(0.5),\n",
    "  tf.keras.layers.Dense(N_LABELS, activation='softmax')\n",
    "])\n",
    "\n",
    "model.compile(optimizer='adam',\n",
    "              loss='sparse_categorical_crossentropy',\n",
    "              metrics=['accuracy'])\n",
    "\n",
    "print('!! start time counting')\n",
    "tic = time.time()\n",
    "\n",
    "history = model.fit(x_train, y_train, epochs=5, \n",
    "                    validation_data=(x_test, y_test))\n",
    "model.evaluate(x_test, y_test, verbose=2)\n",
    "toc = time.time()\n",
    "print('!! Total timecost: %.2fs' % (toc - tic))"
   ]
  },
  {
   "cell_type": "markdown",
   "metadata": {},
   "source": [
    "## 4.2 CIFAR10 数据集合\n",
    "\n",
    "相比于 3 个全连接层，AlexNet 的准确率从 37% 提高到 70%，接近一倍。处理时间从 30s 到 3min，增加 6 倍。\n",
    "\n",
    "模型的性能，明显提升。达到了有一定使用价值的水平。\n",
    "\n",
    "- timecost: ~189s (3min)\n",
    "- accuracy: 70%"
   ]
  },
  {
   "cell_type": "code",
   "execution_count": 13,
   "metadata": {
    "scrolled": false
   },
   "outputs": [
    {
     "name": "stdout",
     "output_type": "stream",
     "text": [
      "!! start time counting\n",
      "Train on 50000 samples, validate on 10000 samples\n",
      "Epoch 1/10\n",
      "50000/50000 [==============================] - 19s 377us/sample - loss: 1.5209 - accuracy: 0.4448 - val_loss: 1.2807 - val_accuracy: 0.5485\n",
      "Epoch 2/10\n",
      "50000/50000 [==============================] - 19s 372us/sample - loss: 1.1419 - accuracy: 0.5949 - val_loss: 1.0891 - val_accuracy: 0.6199\n",
      "Epoch 3/10\n",
      "50000/50000 [==============================] - 19s 375us/sample - loss: 0.9917 - accuracy: 0.6517 - val_loss: 0.9828 - val_accuracy: 0.6540\n",
      "Epoch 4/10\n",
      "50000/50000 [==============================] - 19s 373us/sample - loss: 0.9071 - accuracy: 0.6820 - val_loss: 0.9437 - val_accuracy: 0.6727\n",
      "Epoch 5/10\n",
      "50000/50000 [==============================] - 19s 373us/sample - loss: 0.8294 - accuracy: 0.7087 - val_loss: 0.8797 - val_accuracy: 0.6932\n",
      "Epoch 6/10\n",
      "50000/50000 [==============================] - 19s 373us/sample - loss: 0.7726 - accuracy: 0.7291 - val_loss: 0.9133 - val_accuracy: 0.6820\n",
      "Epoch 7/10\n",
      "50000/50000 [==============================] - 19s 373us/sample - loss: 0.7209 - accuracy: 0.7465 - val_loss: 0.8945 - val_accuracy: 0.6955\n",
      "Epoch 8/10\n",
      "50000/50000 [==============================] - 19s 373us/sample - loss: 0.6715 - accuracy: 0.7638 - val_loss: 0.9443 - val_accuracy: 0.6886\n",
      "Epoch 9/10\n",
      "50000/50000 [==============================] - 19s 374us/sample - loss: 0.6309 - accuracy: 0.7784 - val_loss: 0.9473 - val_accuracy: 0.6899\n",
      "Epoch 10/10\n",
      "50000/50000 [==============================] - 19s 374us/sample - loss: 0.5965 - accuracy: 0.7899 - val_loss: 0.9046 - val_accuracy: 0.6962\n",
      "10000/10000 - 1s - loss: 0.9046 - accuracy: 0.6962\n",
      "!! Total timecost: 188.75s\n"
     ]
    }
   ],
   "source": [
    "cifar10 = tf.keras.datasets.cifar10\n",
    "(x_train, y_train),(x_test, y_test) = cifar10.load_data()\n",
    "\n",
    "# Normalize pixel values to be between 0 and 1\n",
    "x_train, x_test = x_train / 255.0, x_test / 255.0\n",
    "\n",
    "N, W, H, C = x_train.shape\n",
    "N_LABELS = 10\n",
    "\n",
    "model = models.Sequential()\n",
    "model.add(layers.Conv2D(32, (3, 3), activation='relu', input_shape=(W, H, C)))\n",
    "model.add(layers.MaxPooling2D((2, 2)))\n",
    "model.add(layers.Conv2D(64, (3, 3), activation='relu'))\n",
    "model.add(layers.MaxPooling2D((2, 2)))\n",
    "model.add(layers.Conv2D(64, (3, 3), activation='relu'))\n",
    "\n",
    "model.add(layers.Flatten())\n",
    "model.add(layers.Dense(64, activation='relu'))\n",
    "model.add(layers.Dense(N_LABELS, activation='softmax'))\n",
    "\n",
    "model.compile(optimizer='adam',\n",
    "              loss='sparse_categorical_crossentropy',\n",
    "              metrics=['accuracy'])\n",
    "print('!! start time counting')\n",
    "tic = time.time()\n",
    "\n",
    "history = model.fit(x_train, y_train, epochs=10, \n",
    "                    validation_data=(x_test, y_test))\n",
    "model.evaluate(x_test, y_test, verbose=2)\n",
    "toc = time.time()\n",
    "print('!! Total timecost: %.2fs' % (toc - tic))"
   ]
  },
  {
   "cell_type": "code",
   "execution_count": 14,
   "metadata": {},
   "outputs": [
    {
     "name": "stdout",
     "output_type": "stream",
     "text": [
      "10000/10000 - 1s - loss: 0.9046 - accuracy: 0.6962\n",
      "0.6962\n"
     ]
    },
    {
     "data": {
      "image/png": "[encoded data removed]",
      "text/plain": [
       "<Figure size 432x288 with 1 Axes>"
      ]
     },
     "metadata": {
      "needs_background": "light"
     },
     "output_type": "display_data"
    }
   ],
   "source": [
    "# train vs evaluate 的 accuracy 曲线\n",
    "plt.plot(history.history['accuracy'], label='accuracy')\n",
    "plt.plot(history.history['val_accuracy'], label = 'val_accuracy')\n",
    "plt.xlabel('Epoch')\n",
    "plt.ylabel('Accuracy')\n",
    "plt.ylim([0.5, 1])\n",
    "plt.legend(loc='lower right')\n",
    "\n",
    "test_loss, test_acc = model.evaluate(x_test, y_test, verbose=2)\n",
    "print(test_acc)"
   ]
  },
  {
   "cell_type": "code",
   "execution_count": null,
   "metadata": {},
   "outputs": [],
   "source": []
  }
 ],
 "metadata": {
  "kernelspec": {
   "display_name": "Python 3",
   "language": "python",
   "name": "python3"
  },
  "language_info": {
   "codemirror_mode": {
    "name": "ipython",
    "version": 3
   },
   "file_extension": ".py",
   "mimetype": "text/x-python",
   "name": "python",
   "nbconvert_exporter": "python",
   "pygments_lexer": "ipython3",
   "version": "3.7.6"
  }
 },
 "nbformat": 4,
 "nbformat_minor": 2
}
