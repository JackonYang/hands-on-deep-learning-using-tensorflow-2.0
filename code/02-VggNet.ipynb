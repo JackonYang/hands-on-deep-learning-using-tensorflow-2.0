{
 "cells": [
  {
   "cell_type": "markdown",
   "metadata": {},
   "source": [
    "# Summary\n",
    "\n",
    "实验结果：\n",
    "\n",
    "在 CIFAR10 数据集上的实验结果，使用 GPU GTX 1080.\n",
    "\n",
    "| 模型 | 正确率 | 运行时间 |\n",
    "| -- | -- | -- |\n",
    "| AlexNet | 70% | 45s |\n",
    "| VggNet | 78% | 500s |\n",
    "\n",
    "观点：\n",
    "\n",
    "1. VggNet 成功的把网络做的更深了，模型的算法性能也有了不错的提升。\n",
    "2. CIFAR10 数据集可能不足以体现 VggNet 的优势，需要换 ImageNet 试一下"
   ]
  },
  {
   "cell_type": "code",
   "execution_count": 1,
   "metadata": {},
   "outputs": [
    {
     "data": {
      "text/plain": [
       "'2.1.0'"
      ]
     },
     "execution_count": 1,
     "metadata": {},
     "output_type": "execute_result"
    }
   ],
   "source": [
    "import tensorflow as tf\n",
    "from tensorflow.keras import datasets, layers, models\n",
    "from tensorflow.keras import regularizers\n",
    "import matplotlib.pyplot as plt\n",
    "import time\n",
    "\n",
    "tf.__version__"
   ]
  },
  {
   "cell_type": "code",
   "execution_count": 2,
   "metadata": {},
   "outputs": [],
   "source": [
    "cifar10 = tf.keras.datasets.cifar10\n",
    "(x_train, y_train),(x_test, y_test) = cifar10.load_data()\n",
    "\n",
    "# Normalize pixel values to be between 0 and 1\n",
    "x_train, x_test = x_train / 255.0, x_test / 255.0"
   ]
  },
  {
   "cell_type": "code",
   "execution_count": 3,
   "metadata": {},
   "outputs": [
    {
     "data": {
      "text/plain": [
       "(50000, 32, 32, 3)"
      ]
     },
     "execution_count": 3,
     "metadata": {},
     "output_type": "execute_result"
    }
   ],
   "source": [
    "x_train.shape"
   ]
  },
  {
   "cell_type": "code",
   "execution_count": 4,
   "metadata": {
    "scrolled": false
   },
   "outputs": [
    {
     "name": "stdout",
     "output_type": "stream",
     "text": [
      "!! start time counting\n",
      "Train on 50000 samples, validate on 10000 samples\n",
      "Epoch 1/10\n",
      "50000/50000 [==============================] - 52s 1ms/sample - loss: 2.0852 - accuracy: 0.2730 - val_loss: 1.5258 - val_accuracy: 0.4365\n",
      "Epoch 2/10\n",
      "50000/50000 [==============================] - 49s 985us/sample - loss: 1.3984 - accuracy: 0.4961 - val_loss: 1.3332 - val_accuracy: 0.5622\n",
      "Epoch 3/10\n",
      "50000/50000 [==============================] - 49s 985us/sample - loss: 1.1125 - accuracy: 0.6151 - val_loss: 1.2190 - val_accuracy: 0.6067\n",
      "Epoch 4/10\n",
      "50000/50000 [==============================] - 49s 986us/sample - loss: 0.9724 - accuracy: 0.6727 - val_loss: 0.8789 - val_accuracy: 0.7029\n",
      "Epoch 5/10\n",
      "50000/50000 [==============================] - 49s 988us/sample - loss: 0.8501 - accuracy: 0.7203 - val_loss: 0.8442 - val_accuracy: 0.7317\n",
      "Epoch 6/10\n",
      "50000/50000 [==============================] - 49s 988us/sample - loss: 0.7547 - accuracy: 0.7558 - val_loss: 0.6965 - val_accuracy: 0.7688\n",
      "Epoch 7/10\n",
      "50000/50000 [==============================] - 49s 989us/sample - loss: 0.6710 - accuracy: 0.7815 - val_loss: 0.5969 - val_accuracy: 0.8003\n",
      "Epoch 8/10\n",
      "50000/50000 [==============================] - 49s 988us/sample - loss: 0.6104 - accuracy: 0.8026 - val_loss: 0.9500 - val_accuracy: 0.6948\n",
      "Epoch 9/10\n",
      "50000/50000 [==============================] - 49s 989us/sample - loss: 0.5583 - accuracy: 0.8185 - val_loss: 0.5496 - val_accuracy: 0.8187\n",
      "Epoch 10/10\n",
      "50000/50000 [==============================] - 49s 989us/sample - loss: 0.5114 - accuracy: 0.8349 - val_loss: 0.6729 - val_accuracy: 0.7891\n",
      "10000/10000 - 3s - loss: 0.6729 - accuracy: 0.7891\n",
      "!! Total timecost: 500.56s\n"
     ]
    }
   ],
   "source": [
    "# using Batch Norm\n",
    "\n",
    "cifar10 = tf.keras.datasets.cifar10\n",
    "(x_train, y_train),(x_test, y_test) = cifar10.load_data()\n",
    "\n",
    "# Normalize pixel values to be between 0 and 1\n",
    "x_train, x_test = x_train / 255.0, x_test / 255.0\n",
    "\n",
    "N, W, H, C = x_train.shape\n",
    "N_LABELS = 10\n",
    "\n",
    "weight_decay = 0.000\n",
    "\n",
    "model = models.Sequential()\n",
    "\n",
    "# //////// starting\n",
    "# 1st max pooling. 2 conv layer\n",
    "model.add(layers.Conv2D(64, (3, 3), padding='same',\n",
    "                 input_shape=(W, H, C), kernel_regularizer=regularizers.l2(weight_decay)))\n",
    "model.add(layers.Activation('relu'))\n",
    "model.add(layers.BatchNormalization())\n",
    "model.add(layers.Dropout(0.3))\n",
    "\n",
    "model.add(layers.Conv2D(64, (3, 3), padding='same',kernel_regularizer=regularizers.l2(weight_decay)))\n",
    "model.add(layers.Activation('relu'))\n",
    "model.add(layers.BatchNormalization())\n",
    "\n",
    "model.add(layers.MaxPooling2D(pool_size=(2, 2)))\n",
    "\n",
    "# 2nd max pooling. 2 conv layer\n",
    "model.add(layers.Conv2D(128, (3, 3), padding='same',kernel_regularizer=regularizers.l2(weight_decay)))\n",
    "model.add(layers.Activation('relu'))\n",
    "model.add(layers.BatchNormalization())\n",
    "model.add(layers.Dropout(0.4))\n",
    "\n",
    "model.add(layers.Conv2D(128, (3, 3), padding='same',kernel_regularizer=regularizers.l2(weight_decay)))\n",
    "model.add(layers.Activation('relu'))\n",
    "model.add(layers.BatchNormalization())\n",
    "\n",
    "model.add(layers.MaxPooling2D(pool_size=(2, 2)))\n",
    "\n",
    "# 3rd max pooling. 3 conv layer\n",
    "model.add(layers.Conv2D(256, (3, 3), padding='same',kernel_regularizer=regularizers.l2(weight_decay)))\n",
    "model.add(layers.Activation('relu'))\n",
    "model.add(layers.BatchNormalization())\n",
    "model.add(layers.Dropout(0.4))\n",
    "\n",
    "model.add(layers.Conv2D(256, (3, 3), padding='same',kernel_regularizer=regularizers.l2(weight_decay)))\n",
    "model.add(layers.Activation('relu'))\n",
    "model.add(layers.BatchNormalization())\n",
    "model.add(layers.Dropout(0.4))\n",
    "\n",
    "model.add(layers.Conv2D(256, (3, 3), padding='same',kernel_regularizer=regularizers.l2(weight_decay)))\n",
    "model.add(layers.Activation('relu'))\n",
    "model.add(layers.BatchNormalization())\n",
    "\n",
    "model.add(layers.MaxPooling2D(pool_size=(2, 2)))\n",
    "\n",
    "# 4th max pooling. 3 conv layer\n",
    "model.add(layers.Conv2D(512, (3, 3), padding='same',kernel_regularizer=regularizers.l2(weight_decay)))\n",
    "model.add(layers.Activation('relu'))\n",
    "model.add(layers.BatchNormalization())\n",
    "model.add(layers.Dropout(0.4))\n",
    "\n",
    "model.add(layers.Conv2D(512, (3, 3), padding='same',kernel_regularizer=regularizers.l2(weight_decay)))\n",
    "model.add(layers.Activation('relu'))\n",
    "model.add(layers.BatchNormalization())\n",
    "model.add(layers.Dropout(0.4))\n",
    "\n",
    "model.add(layers.Conv2D(512, (3, 3), padding='same',kernel_regularizer=regularizers.l2(weight_decay)))\n",
    "model.add(layers.Activation('relu'))\n",
    "model.add(layers.BatchNormalization())\n",
    "\n",
    "model.add(layers.MaxPooling2D(pool_size=(2, 2)))\n",
    "\n",
    "# 5th max pooling. 3 conv layer\n",
    "model.add(layers.Conv2D(512, (3, 3), padding='same',kernel_regularizer=regularizers.l2(weight_decay)))\n",
    "model.add(layers.Activation('relu'))\n",
    "model.add(layers.BatchNormalization())\n",
    "model.add(layers.Dropout(0.4))\n",
    "\n",
    "model.add(layers.Conv2D(512, (3, 3), padding='same',kernel_regularizer=regularizers.l2(weight_decay)))\n",
    "model.add(layers.Activation('relu'))\n",
    "model.add(layers.BatchNormalization())\n",
    "model.add(layers.Dropout(0.4))\n",
    "\n",
    "model.add(layers.Conv2D(512, (3, 3), padding='same',kernel_regularizer=regularizers.l2(weight_decay)))\n",
    "model.add(layers.Activation('relu'))\n",
    "model.add(layers.BatchNormalization())\n",
    "\n",
    "model.add(layers.MaxPooling2D(pool_size=(2, 2)))\n",
    "model.add(layers.Dropout(0.5))\n",
    "\n",
    "# 2 Fully Connected Layers\n",
    "model.add(layers.Flatten())\n",
    "model.add(layers.Dense(512, activation='relu', kernel_regularizer=regularizers.l2(weight_decay)))\n",
    "model.add(layers.BatchNormalization())\n",
    "\n",
    "model.add(layers.Dropout(0.5))\n",
    "model.add(layers.Dense(N_LABELS, activation='softmax'))\n",
    "\n",
    "model.compile(optimizer='adam',\n",
    "              loss='sparse_categorical_crossentropy',\n",
    "              metrics=['accuracy'])\n",
    "print('!! start time counting')\n",
    "tic = time.time()\n",
    "\n",
    "history = model.fit(x_train, y_train, epochs=10, \n",
    "                    validation_data=(x_test, y_test))\n",
    "model.evaluate(x_test, y_test, verbose=2)\n",
    "toc = time.time()\n",
    "print('!! Total timecost: %.2fs' % (toc - tic))"
   ]
  },
  {
   "cell_type": "code",
   "execution_count": 5,
   "metadata": {},
   "outputs": [
    {
     "name": "stdout",
     "output_type": "stream",
     "text": [
      "10000/10000 - 3s - loss: 0.6729 - accuracy: 0.7891\n",
      "0.7891\n"
     ]
    },
    {
     "data": {
      "image/png": "[encoded data removed]",
      "text/plain": [
       "<Figure size 432x288 with 1 Axes>"
      ]
     },
     "metadata": {
      "needs_background": "light"
     },
     "output_type": "display_data"
    }
   ],
   "source": [
    "# train vs evaluate 的 accuracy 曲线\n",
    "plt.plot(history.history['accuracy'], label='accuracy')\n",
    "plt.plot(history.history['val_accuracy'], label = 'val_accuracy')\n",
    "plt.xlabel('Epoch')\n",
    "plt.ylabel('Accuracy')\n",
    "plt.ylim([0.5, 1])\n",
    "plt.legend(loc='lower right')\n",
    "\n",
    "test_loss, test_acc = model.evaluate(x_test, y_test, verbose=2)\n",
    "print(test_acc)"
   ]
  },
  {
   "cell_type": "code",
   "execution_count": null,
   "metadata": {},
   "outputs": [],
   "source": []
  }
 ],
 "metadata": {
  "kernelspec": {
   "display_name": "Python 3",
   "language": "python",
   "name": "python3"
  },
  "language_info": {
   "codemirror_mode": {
    "name": "ipython",
    "version": 3
   },
   "file_extension": ".py",
   "mimetype": "text/x-python",
   "name": "python",
   "nbconvert_exporter": "python",
   "pygments_lexer": "ipython3",
   "version": "3.7.6"
  }
 },
 "nbformat": 4,
 "nbformat_minor": 2
}
